{
 "cells": [
  {
   "cell_type": "code",
   "execution_count": 1,
   "metadata": {},
   "outputs": [],
   "source": [
    "%matplotlib inline\n",
    "%load_ext autoreload\n",
    "%autoreload 2"
   ]
  },
  {
   "cell_type": "code",
   "execution_count": 2,
   "metadata": {},
   "outputs": [
    {
     "name": "stdout",
     "output_type": "stream",
     "text": [
      "1.3.0 1.17.3\n"
     ]
    }
   ],
   "source": [
    "import matplotlib.pyplot as plt\n",
    "import numpy as np\n",
    "import torch\n",
    "import torch.nn as nn\n",
    "import torch.nn.functional as F\n",
    "import time\n",
    "\n",
    "from lib import dpf, panda_baseline_models, panda_datasets, panda_baseline_training\n",
    "from lib.utils import file_utils, torch_utils, misc_utils\n",
    "\n",
    "print(torch.__version__, np.__version__)"
   ]
  },
  {
   "cell_type": "code",
   "execution_count": 3,
   "metadata": {},
   "outputs": [],
   "source": [
    "# Experiment configuration\n",
    "experiment_name = \"baseline_no_haptics\"\n",
    "dataset_args = {\n",
    "    'use_proprioception': True,\n",
    "    'use_haptics': False,\n",
    "    'use_vision': True,\n",
    "    'vision_interval': 10,\n",
    "}"
   ]
  },
  {
   "cell_type": "code",
   "execution_count": 4,
   "metadata": {},
   "outputs": [
    {
     "name": "stdout",
     "output_type": "stream",
     "text": [
      "Using device: cpu\n",
      "Loaded checkpoint from path: checkpoints/baseline/baseline_no_haptics-0000000000022830.ckpt\n"
     ]
    }
   ],
   "source": [
    "# Create model & training buddy\n",
    "model = panda_baseline_models.PandaBaselineModel(use_prev_state=True, units=32)\n",
    "buddy = torch_utils.TrainingBuddy(experiment_name, model, log_dir=\"logs/baseline\", checkpoint_dir=\"checkpoints/baseline\")"
   ]
  },
  {
   "cell_type": "code",
   "execution_count": 5,
   "metadata": {},
   "outputs": [
    {
     "name": "stdout",
     "output_type": "stream",
     "text": [
      "Parsed data: 389533 active, 195332 inactive\n",
      "Keeping: 194766\n"
     ]
    }
   ],
   "source": [
    "# Load dataset\n",
    "trainset = panda_datasets.PandaDynamicsDataset(\n",
    "    \"data/pull-test.hdf5\",\n",
    "    \"data/push-test.hdf5\",\n",
    "    **dataset_args\n",
    ")"
   ]
  },
  {
   "cell_type": "code",
   "execution_count": 6,
   "metadata": {},
   "outputs": [
    {
     "name": "stdout",
     "output_type": "stream",
     "text": [
      "Training epoch 0\n",
      "......................Epoch loss: 0.006549242\n",
      "Training epoch 1\n",
      ".......................Epoch loss: 0.0016409167\n",
      "Training epoch 2\n",
      ".......................Epoch loss: 0.0013574224\n",
      "Training epoch 3\n",
      ".................Saved checkpoint to path: checkpoints/baseline/baseline_no_haptics-0000000000020000.ckpt\n",
      "......Epoch loss: 0.0011057411\n",
      "Training epoch 4\n",
      ".......................Epoch loss: 0.0010354795\n"
     ]
    }
   ],
   "source": [
    "# trainset_loader = torch.utils.data.DataLoader(trainset, batch_size=32, shuffle=True, num_workers=2)\n",
    "# for i in range(5):\n",
    "#     print(\"Training epoch\", i)\n",
    "#     panda_baseline_training.train(buddy, model, trainset_loader, log_interval=100, state_noise_std=0.2)\n",
    "\n",
    "# trainset_loader = torch.utils.data.DataLoader(trainset, batch_size=64, shuffle=True, num_workers=2)\n",
    "# for i in range(5):\n",
    "#     print(\"Training epoch\", i)\n",
    "#     panda_baseline_training.train(buddy, model, trainset_loader, log_interval=100, state_noise_std=0.1)\n",
    "\n",
    "trainset_loader = torch.utils.data.DataLoader(trainset, batch_size=256, shuffle=True, num_workers=2)\n",
    "for i in range(5):\n",
    "    print(\"Training epoch\", i)\n",
    "    panda_baseline_training.train(buddy, model, trainset_loader, log_interval=100, state_noise_std=0.1)"
   ]
  },
  {
   "cell_type": "markdown",
   "metadata": {},
   "source": [
    "# Model eval"
   ]
  },
  {
   "cell_type": "code",
   "execution_count": 5,
   "metadata": {},
   "outputs": [],
   "source": [
    "eval_trajectories_list = []\n",
    "\n",
    "def load_trajectories(label, validation, include_pull, include_push, max_count=10):\n",
    "    if validation:\n",
    "        # Validation set\n",
    "        files = [\n",
    "            (\"data/pull-test-small.hdf5\", max_count),\n",
    "            (\"data/push-test-small.hdf5\", max_count)\n",
    "        ]\n",
    "    else:\n",
    "        # Training set\n",
    "        files = [\n",
    "            (\"data/pull-test.hdf5\", max_count),\n",
    "            (\"data/push-test.hdf5\", max_count)\n",
    "        ]\n",
    "    \n",
    "    filtered_files = []\n",
    "    if include_pull:\n",
    "        filtered_files.append(files[0])\n",
    "    if include_push:\n",
    "        filtered_files.append(files[1])\n",
    "\n",
    "    trajectories = panda_datasets.load_trajectories(\n",
    "        *filtered_files,\n",
    "        **dataset_args\n",
    "    )\n",
    "    eval_trajectories_list.append((label, trajectories))\n",
    "\n",
    "load_trajectories(\"Validation all\", validation=True, include_pull=True, include_push=True)\n",
    "load_trajectories(\"Validation pull\", validation=True, include_pull=True, include_push=False)\n",
    "load_trajectories(\"Validation push\", validation=True, include_pull=False, include_push=True)\n",
    "\n",
    "load_trajectories(\"Training all\", validation=False, include_pull=True, include_push=True)\n",
    "load_trajectories(\"Training pull\", validation=False, include_pull=True, include_push=False)\n",
    "load_trajectories(\"Training push\", validation=False, include_pull=False, include_push=True)"
   ]
  },
  {
   "cell_type": "code",
   "execution_count": 6,
   "metadata": {
    "scrolled": false
   },
   "outputs": [
    {
     "name": "stdout",
     "output_type": "stream",
     "text": [
      "\n",
      "###############################\n",
      "## Validation all\n",
      "###############################\n",
      "Position RMSE, degrees:  1.9685469633793578\n",
      "\n",
      "###############################\n",
      "## Validation pull\n",
      "###############################\n",
      "Position RMSE, degrees:  1.8293244427626376\n",
      "\n",
      "###############################\n",
      "## Validation push\n",
      "###############################\n",
      "Position RMSE, degrees:  2.098553424371615\n",
      "\n",
      "###############################\n",
      "## Training all\n",
      "###############################\n",
      "Position RMSE, degrees:  1.7268164300905573\n",
      "\n",
      "###############################\n",
      "## Training pull\n",
      "###############################\n",
      "Position RMSE, degrees:  1.6477484527111972\n",
      "\n",
      "###############################\n",
      "## Training push\n",
      "###############################\n",
      "Position RMSE, degrees:  1.802419046961488\n"
     ]
    }
   ],
   "source": [
    "# Evaluate final model\n",
    "for label, trajectories in eval_trajectories_list:\n",
    "    print(\"\")\n",
    "    print(\"###############################\")\n",
    "    print(\"##\", label)\n",
    "    print(\"###############################\")\n",
    "    pred, actual = panda_baseline_training.rollout(model, trajectories)\n",
    "    panda_baseline_training.eval_rollout(pred, actual)"
   ]
  },
  {
   "cell_type": "code",
   "execution_count": 9,
   "metadata": {},
   "outputs": [
    {
     "name": "stdout",
     "output_type": "stream",
     "text": [
      "Saved checkpoint to path: checkpoints/baseline/baseline_no_haptics-0000000000022830.ckpt\n"
     ]
    }
   ],
   "source": [
    "buddy.save_checkpoint()"
   ]
  },
  {
   "cell_type": "code",
   "execution_count": null,
   "metadata": {},
   "outputs": [],
   "source": []
  }
 ],
 "metadata": {
  "kernelspec": {
   "display_name": "Python 3",
   "language": "python",
   "name": "python3"
  },
  "language_info": {
   "codemirror_mode": {
    "name": "ipython",
    "version": 3
   },
   "file_extension": ".py",
   "mimetype": "text/x-python",
   "name": "python",
   "nbconvert_exporter": "python",
   "pygments_lexer": "ipython3",
   "version": "3.6.8"
  }
 },
 "nbformat": 4,
 "nbformat_minor": 2
}
