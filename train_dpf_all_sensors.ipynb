{
 "cells": [
  {
   "cell_type": "code",
   "execution_count": null,
   "metadata": {},
   "outputs": [],
   "source": [
    "%matplotlib inline\n",
    "%load_ext autoreload\n",
    "%autoreload 2"
   ]
  },
  {
   "cell_type": "code",
   "execution_count": null,
   "metadata": {},
   "outputs": [],
   "source": [
    "import matplotlib.pyplot as plt\n",
    "import numpy as np\n",
    "import torch\n",
    "import torch.nn as nn\n",
    "import torch.nn.functional as F\n",
    "import time\n",
    "\n",
    "from lib import dpf, panda_models, panda_datasets, panda_training\n",
    "from lib.utils import file_utils, torch_utils, misc_utils\n",
    "\n",
    "print(torch.__version__, np.__version__)"
   ]
  },
  {
   "cell_type": "code",
   "execution_count": null,
   "metadata": {},
   "outputs": [],
   "source": [
    "# Experiment configuration\n",
    "experiment_name = \"dpf_all_sensors\"\n",
    "dataset_args = {\n",
    "    'use_proprioception': True,\n",
    "    'use_vision': True,\n",
    "    'vision_interval': 10,\n",
    "}"
   ]
  },
  {
   "cell_type": "code",
   "execution_count": null,
   "metadata": {},
   "outputs": [],
   "source": [
    "# Create models & training buddy\n",
    "\n",
    "dynamics_model = panda_models.PandaSimpleDynamicsModel(state_noise=(0.05))\n",
    "measurement_model = panda_models.PandaMeasurementModel(units=32)\n",
    "\n",
    "pf_model = dpf.ParticleFilterNetwork(dynamics_model, measurement_model)\n",
    "\n",
    "buddy = torch_utils.TrainingBuddy(\n",
    "    experiment_name,\n",
    "    pf_model,\n",
    "    optimizer_names=[\"e2e\", \"dynamics\", \"measurement\"],\n",
    "    log_dir=\"logs/pf\",\n",
    "    checkpoint_dir=\"checkpoints/pf\"\n",
    ")"
   ]
  },
  {
   "cell_type": "markdown",
   "metadata": {},
   "source": [
    "# Dynamics Model Pre-Training"
   ]
  },
  {
   "cell_type": "code",
   "execution_count": null,
   "metadata": {},
   "outputs": [],
   "source": [
    "# dynamics_trainset = panda_datasets.PandaDynamicsDataset(\n",
    "# #     \"data/pull-test-tiny.hdf5\",\n",
    "#     \"data/pull-test.hdf5\",\n",
    "#     \"data/push-test.hdf5\",\n",
    "#     **dataset_args\n",
    "# )"
   ]
  },
  {
   "cell_type": "code",
   "execution_count": null,
   "metadata": {},
   "outputs": [],
   "source": [
    "# dataloader = torch.utils.data.DataLoader(dynamics_trainset, batch_size=256, shuffle=True, num_workers=2)\n",
    "\n",
    "# for i in range(0):\n",
    "#     print(\"Training epoch\", i)\n",
    "#     panda_training.train_dynamics(buddy, pf_model, dataloader, log_interval=10)\n",
    "#     print()\n"
   ]
  },
  {
   "cell_type": "markdown",
   "metadata": {},
   "source": [
    "# Measurement Model Pre-Training"
   ]
  },
  {
   "cell_type": "code",
   "execution_count": null,
   "metadata": {},
   "outputs": [],
   "source": [
    "measurement_trainset = panda_datasets.PandaMeasurementDataset(\n",
    "    (\"data/pull-test.hdf5\", 100000),\n",
    "    (\"data/push-test.hdf5\", 100000),\n",
    "    **dataset_args\n",
    ")"
   ]
  },
  {
   "cell_type": "code",
   "execution_count": null,
   "metadata": {},
   "outputs": [],
   "source": [
    "measurement_trainset_loader = torch.utils.data.DataLoader(measurement_trainset, batch_size=32, shuffle=True, num_workers=2)\n",
    "for i in range(5):\n",
    "    print(\"Training epoch\", i)\n",
    "    panda_training.train_measurement(buddy, pf_model, measurement_trainset_loader, log_interval=100)\n",
    "    print()\n",
    "\n",
    "measurement_trainset_loader = torch.utils.data.DataLoader(measurement_trainset, batch_size=64, shuffle=True, num_workers=2)\n",
    "for i in range(5):\n",
    "    print(\"Training epoch\", i)\n",
    "    panda_training.train_measurement(buddy, pf_model, measurement_trainset_loader, log_interval=100)\n",
    "    print()\n",
    "\n",
    "measurement_trainset_loader = torch.utils.data.DataLoader(measurement_trainset, batch_size=256, shuffle=True, num_workers=2)\n",
    "for i in range(5):\n",
    "    print(\"Training epoch\", i)\n",
    "    panda_training.train_measurement(buddy, pf_model, measurement_trainset_loader, log_interval=100)\n",
    "    print()\n",
    "\n"
   ]
  },
  {
   "cell_type": "code",
   "execution_count": null,
   "metadata": {},
   "outputs": [],
   "source": [
    "buddy.save_checkpoint(label=\"before_e2e_training\")"
   ]
  },
  {
   "cell_type": "markdown",
   "metadata": {},
   "source": [
    "# End-to-end Training"
   ]
  },
  {
   "cell_type": "code",
   "execution_count": null,
   "metadata": {},
   "outputs": [],
   "source": [
    "# Create end-to-end dataset\n",
    "\n",
    "e2e_trainset = panda_datasets.PandaParticleFilterDataset(\n",
    "    (\"data/pull-test.hdf5\", 10000),\n",
    "    (\"data/push-test.hdf5\", 10000),\n",
    "    subsequence_length=4,\n",
    "    particle_count=50,\n",
    "    particle_variances=(.2,),\n",
    "    **dataset_args\n",
    ")"
   ]
  },
  {
   "cell_type": "code",
   "execution_count": null,
   "metadata": {},
   "outputs": [],
   "source": [
    "##### Train end-to-end\n",
    "\n",
    "pf_model.freeze_measurement_model = False\n",
    "pf_model.freeze_dynamics_model = True\n",
    "\n",
    "e2e_trainset_loader = torch.utils.data.DataLoader(e2e_trainset, batch_size=32, shuffle=True, num_workers=2)\n",
    "for i in range(5):\n",
    "    print(\"Training epoch\", i)\n",
    "    panda_training.train_e2e(buddy, pf_model, e2e_trainset_loader, loss_type=\"mse\", log_interval=100)\n",
    "\n",
    "e2e_trainset_loader = torch.utils.data.DataLoader(e2e_trainset, batch_size=64, shuffle=True, num_workers=2)\n",
    "for i in range(5):\n",
    "    print(\"Training epoch\", i)\n",
    "    panda_training.train_e2e(buddy, pf_model, e2e_trainset_loader, loss_type=\"mse\", log_interval=100)"
   ]
  },
  {
   "cell_type": "code",
   "execution_count": null,
   "metadata": {},
   "outputs": [],
   "source": [
    "buddy.save_checkpoint()"
   ]
  },
  {
   "cell_type": "markdown",
   "metadata": {},
   "source": [
    "# Model eval"
   ]
  },
  {
   "cell_type": "code",
   "execution_count": null,
   "metadata": {
    "scrolled": false
   },
   "outputs": [],
   "source": [
    "eval_trajectories_list = []\n",
    "\n",
    "def load_trajectories(label, validation, include_pull, include_push, max_count=10):\n",
    "    if validation:\n",
    "        # Validation set\n",
    "        files = [\n",
    "            (\"data/pull-test-small.hdf5\", max_count),\n",
    "            (\"data/push-test-small.hdf5\", max_count)\n",
    "        ]\n",
    "    else:\n",
    "        # Training set\n",
    "        files = [\n",
    "            (\"data/pull-test.hdf5\", max_count),\n",
    "            (\"data/push-test.hdf5\", max_count)\n",
    "        ]\n",
    "    \n",
    "    filtered_files = []\n",
    "    if include_pull:\n",
    "        filtered_files.append(files[0])\n",
    "    if include_push:\n",
    "        filtered_files.append(files[1])\n",
    "\n",
    "    trajectories = panda_datasets.load_trajectories(\n",
    "        *filtered_files,\n",
    "        **dataset_args\n",
    "    )\n",
    "    eval_trajectories_list.append((label, trajectories))\n",
    "\n",
    "load_trajectories(\"Validation all\", validation=True, include_pull=True, include_push=True)\n",
    "load_trajectories(\"Validation pull\", validation=True, include_pull=True, include_push=False)\n",
    "load_trajectories(\"Validation push\", validation=True, include_pull=False, include_push=True)\n",
    "\n",
    "load_trajectories(\"Training all\", validation=False, include_pull=True, include_push=True)\n",
    "load_trajectories(\"Training pull\", validation=False, include_pull=True, include_push=False)\n",
    "load_trajectories(\"Training push\", validation=False, include_pull=False, include_push=True)"
   ]
  },
  {
   "cell_type": "markdown",
   "metadata": {},
   "source": [
    "### Final Model"
   ]
  },
  {
   "cell_type": "code",
   "execution_count": null,
   "metadata": {
    "scrolled": false
   },
   "outputs": [],
   "source": [
    "# Load the latest version of the model & evaluate\n",
    "buddy.load_checkpoint()\n",
    "for label, trajectories in eval_trajectories_list:\n",
    "    print(\"###############################\")\n",
    "    print(\"###############################\")\n",
    "    print(\"##\", label)\n",
    "    print(\"###############################\")\n",
    "    print(\"###############################\")\n",
    "    traj = trajectories\n",
    "    pred, actual = panda_training.rollout(pf_model, traj, start_time=0, max_timesteps=1000, particle_count=200, noisy_dynamics=True)\n",
    "    panda_training.vis_rollout(pred, actual)"
   ]
  },
  {
   "cell_type": "markdown",
   "metadata": {},
   "source": [
    "### Model without end-to-end training"
   ]
  },
  {
   "cell_type": "code",
   "execution_count": null,
   "metadata": {
    "scrolled": false
   },
   "outputs": [],
   "source": [
    "# Back up model\n",
    "buddy.save_checkpoint()\n",
    "\n",
    "# Load the pre-end-to-end-training version of the model & evaluate\n",
    "buddy.load_checkpoint(label=\"before_e2e_training\")\n",
    "for label, trajectories in eval_trajectories_list:\n",
    "    print(\"###############################\")\n",
    "    print(\"###############################\")\n",
    "    print(\"##\", label)\n",
    "    print(\"###############################\")\n",
    "    print(\"###############################\")\n",
    "    traj = eval_trajectories\n",
    "    pred, actual = panda_training.rollout(pf_model, traj, start_time=0, max_timesteps=1000, particle_count=200, noisy_dynamics=True)\n",
    "    panda_training.vis_rollout(pred, actual)\n",
    "\n",
    "# Restore model\n",
    "buddy.load_checkpoint()"
   ]
  },
  {
   "cell_type": "code",
   "execution_count": null,
   "metadata": {},
   "outputs": [],
   "source": []
  }
 ],
 "metadata": {
  "kernelspec": {
   "display_name": "Environment (conda_pytorch_p36)",
   "language": "python",
   "name": "conda_pytorch_p36"
  },
  "language_info": {
   "codemirror_mode": {
    "name": "ipython",
    "version": 3
   },
   "file_extension": ".py",
   "mimetype": "text/x-python",
   "name": "python",
   "nbconvert_exporter": "python",
   "pygments_lexer": "ipython3",
   "version": "3.6.5"
  }
 },
 "nbformat": 4,
 "nbformat_minor": 2
}
