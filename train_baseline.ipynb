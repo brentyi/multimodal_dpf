{
 "cells": [
  {
   "cell_type": "code",
   "execution_count": 1,
   "metadata": {},
   "outputs": [],
   "source": [
    "%matplotlib inline\n",
    "%load_ext autoreload\n",
    "%autoreload 2"
   ]
  },
  {
   "cell_type": "code",
   "execution_count": 2,
   "metadata": {},
   "outputs": [
    {
     "name": "stdout",
     "output_type": "stream",
     "text": [
      "1.3.1 1.16.4\n"
     ]
    }
   ],
   "source": [
    "import matplotlib.pyplot as plt\n",
    "import numpy as np\n",
    "import torch\n",
    "import torch.nn as nn\n",
    "import torch.nn.functional as F\n",
    "import time\n",
    "\n",
    "from lib import dpf, panda_baseline_models, panda_datasets, panda_baseline_training\n",
    "from lib.utils import file_utils, torch_utils, misc_utils\n",
    "\n",
    "print(torch.__version__, np.__version__)"
   ]
  },
  {
   "cell_type": "code",
   "execution_count": 3,
   "metadata": {},
   "outputs": [],
   "source": [
    "# Experiment configuration\n",
    "experiment_name = \"baseline_all_sensors\"\n",
    "dataset_args = {\n",
    "    'use_proprioception': True,\n",
    "    'use_vision': True,\n",
    "    'vision_interval': 10,\n",
    "}"
   ]
  },
  {
   "cell_type": "code",
   "execution_count": 4,
   "metadata": {},
   "outputs": [
    {
     "name": "stdout",
     "output_type": "stream",
     "text": [
      "Using device: cuda\n",
      "No checkpoint found\n"
     ]
    }
   ],
   "source": [
    "# Create model & training buddy\n",
    "model = panda_baseline_models.PandaBaselineModel(use_prev_state=True, units=32)\n",
    "buddy = torch_utils.TrainingBuddy(experiment_name, model, log_dir=\"logs/baseline\", checkpoint_dir=\"checkpoints/baseline\")"
   ]
  },
  {
   "cell_type": "code",
   "execution_count": 5,
   "metadata": {},
   "outputs": [
    {
     "name": "stdout",
     "output_type": "stream",
     "text": [
      "Parsed data: 389533 active, 195332 inactive\n",
      "Keeping: 194766\n"
     ]
    }
   ],
   "source": [
    "# Load dataset\n",
    "trainset = panda_datasets.PandaDynamicsDataset(\n",
    "    \"data/pull-test.hdf5\",\n",
    "    \"data/push-test.hdf5\",\n",
    "    **dataset_args\n",
    ")"
   ]
  },
  {
   "cell_type": "code",
   "execution_count": null,
   "metadata": {},
   "outputs": [
    {
     "name": "stdout",
     "output_type": "stream",
     "text": [
      "Training epoch 0\n",
      "...................................................................................................Saved checkpoint to path: checkpoints/baseline/baseline_all_sensors-0000000000010000.ckpt\n",
      "...................................................................................Epoch loss: 0.027989069\n",
      "Training epoch 1\n",
      ".................Saved checkpoint to path: checkpoints/baseline/baseline_all_sensors-0000000000020000.ckpt\n",
      "............................................................................."
     ]
    }
   ],
   "source": [
    "trainset_loader = torch.utils.data.DataLoader(trainset, batch_size=32, shuffle=True, num_workers=2)\n",
    "for i in range(5):\n",
    "    print(\"Training epoch\", i)\n",
    "    panda_baseline_training.train(buddy, model, trainset_loader, log_interval=100)\n",
    "\n",
    "trainset_loader = torch.utils.data.DataLoader(trainset, batch_size=64, shuffle=True, num_workers=2)\n",
    "for i in range(5):\n",
    "    print(\"Training epoch\", i)\n",
    "    panda_baseline_training.train(buddy, model, trainset_loader, log_interval=100)\n",
    "\n",
    "trainset_loader = torch.utils.data.DataLoader(trainset, batch_size=256, shuffle=True, num_workers=2)\n",
    "for i in range(5):\n",
    "    print(\"Training epoch\", i)\n",
    "    panda_baseline_training.train(buddy, model, trainset_loader, log_interval=100)"
   ]
  },
  {
   "cell_type": "markdown",
   "metadata": {},
   "source": [
    "# Model eval\n",
    "### Training set"
   ]
  },
  {
   "cell_type": "code",
   "execution_count": null,
   "metadata": {},
   "outputs": [],
   "source": [
    "eval_trajectories = panda_datasets.load_trajectories(\n",
    "    (\"data/pull-test.hdf5\", 5),\n",
    "    (\"data/push-test.hdf5\", 5),\n",
    "    **dataset_args\n",
    ")\n",
    "pred, actual = panda_baseline_training.rollout(model, eval_trajectories)\n",
    "panda_baseline_training.vis_rollout(pred, actual)"
   ]
  },
  {
   "cell_type": "markdown",
   "metadata": {},
   "source": [
    "### Validation set"
   ]
  },
  {
   "cell_type": "code",
   "execution_count": null,
   "metadata": {},
   "outputs": [],
   "source": [
    "eval_trajectories = panda_datasets.load_trajectories(\n",
    "    (\"data/pull-test-small.hdf5\", 5),\n",
    "    (\"data/push-test-small.hdf5\", 5),\n",
    "    **dataset_args\n",
    ")\n",
    "pred, actual = panda_baseline_training.rollout(model, eval_trajectories)\n",
    "panda_baseline_training.vis_rollout(pred, actual)"
   ]
  },
  {
   "cell_type": "code",
   "execution_count": null,
   "metadata": {},
   "outputs": [],
   "source": []
  }
 ],
 "metadata": {
  "kernelspec": {
   "display_name": "Environment (conda_pytorch_p36)",
   "language": "python",
   "name": "conda_pytorch_p36"
  },
  "language_info": {
   "codemirror_mode": {
    "name": "ipython",
    "version": 3
   },
   "file_extension": ".py",
   "mimetype": "text/x-python",
   "name": "python",
   "nbconvert_exporter": "python",
   "pygments_lexer": "ipython3",
   "version": "3.6.5"
  }
 },
 "nbformat": 4,
 "nbformat_minor": 2
}
