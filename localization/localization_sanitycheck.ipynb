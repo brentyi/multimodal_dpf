{
 "cells": [
  {
   "cell_type": "code",
   "execution_count": 2,
   "metadata": {},
   "outputs": [],
   "source": [
    "%matplotlib inline\n",
    "%load_ext autoreload\n",
    "%autoreload 2\n",
    "\n",
    "import matplotlib.pyplot as plt\n",
    "import numpy as np\n",
    "import torch\n",
    "import torch.nn.functional as F\n",
    "import torch.optim as optim\n",
    "import time\n",
    "\n",
    "import dpf\n",
    "import dpf_toy\n"
   ]
  },
  {
   "cell_type": "code",
   "execution_count": 3,
   "metadata": {},
   "outputs": [],
   "source": [
    "### Some helpers for generating data\n",
    "###\n",
    "\n",
    "observer = dpf_toy.BeaconObserver()\n",
    "observer.add_beacon((5, 3), 0.2)\n",
    "observer.add_beacon((22, 8), 0.5)\n",
    "observer.add_beacon((12, -10), 0.5)\n",
    "\n",
    "# Simulation\n",
    "def simulate_trajectory(timesteps=100):\n",
    "    dynamics = dpf_toy.RobotDynamicsModel()\n",
    "\n",
    "    # Generate states, control inputs\n",
    "    states = [np.array([0., 0., 0.])]\n",
    "    controls = []\n",
    "    for _ in range(timesteps):\n",
    "        control = torch.from_numpy(np.random.uniform(\n",
    "            low=[0, -0.1], high=[0.4, 0.1], size=(2,)).astype(np.float32))\n",
    "        new_state = dynamics.forward(\n",
    "            torch.from_numpy(states[-1][np.newaxis, np.newaxis, :].astype(np.float32)), control[np.newaxis,:], noisy=True)\n",
    "\n",
    "        states.append(new_state[0,0].numpy())\n",
    "        controls.append(control.numpy())\n",
    "\n",
    "    # Remove initial state\n",
    "    states = states\n",
    "\n",
    "    # Generate observations from ground-truth states\n",
    "    observations = observer.forward(states)\n",
    "\n",
    "    return states, observations, controls\n",
    "\n",
    "# Dead-reckoning\n",
    "def dead_reckon(controls, initial_state=np.array([0., 0., 0.])):\n",
    "    dynamics = dpf_toy.RobotDynamicsModel()\n",
    "\n",
    "    states = [initial_state]\n",
    "    for control in controls:\n",
    "        new_state = dynamics.forward(\n",
    "            torch.from_numpy(states[-1][np.newaxis, :].astype(np.float32)), control, noisy=False)\n",
    "        states.append(new_state[0].numpy())\n",
    "    \n",
    "    # Remove initial state and return\n",
    "    return states\n",
    "\n",
    "# Visualization helper\n",
    "def plot_trajectories(*states_list, **states_dict):\n",
    "    import itertools\n",
    "    plt.figure()\n",
    "    for label, states in itertools.chain(states_dict.items(), enumerate(states_list)):\n",
    "        if label == \"particles\":\n",
    "            # Format for particles should be states, log_weights\n",
    "            assert len(states) == 2\n",
    "            states, log_weights = states\n",
    "            weights = np.exp(log_weights)\n",
    "            weights /= np.max(weights)\n",
    "\n",
    "            x = np.asarray(states).T[0]\n",
    "            y = np.asarray(states).T[1]\n",
    "            plt.scatter(x, y, label=label, c=weights)\n",
    "        else:\n",
    "            x = np.asarray(states).T[0]\n",
    "            y = np.asarray(states).T[1]\n",
    "            plt.scatter(x, y, label=label)\n",
    "\n",
    "        \n",
    "    plt.legend()\n",
    "    plt.show()\n"
   ]
  },
  {
   "cell_type": "code",
   "execution_count": 4,
   "metadata": {},
   "outputs": [],
   "source": [
    "## Generate some training data\n",
    "#\n",
    "training_trajectories = []\n",
    "for _ in range(100):\n",
    "    # States, observations, controls\n",
    "    s, o, u = simulate_trajectory(80)\n",
    "    training_trajectories.append((np.asarray(s), np.asarray(o), np.asarray(u)))"
   ]
  },
  {
   "cell_type": "code",
   "execution_count": 5,
   "metadata": {},
   "outputs": [
    {
     "data": {
      "image/png": "[encoded data removed]",
      "text/plain": [
       "<Figure size 432x288 with 1 Axes>"
      ]
     },
     "metadata": {},
     "output_type": "display_data"
    }
   ],
   "source": [
    "plot_trajectories(*[t[0] for t in training_trajectories[:2]])\n"
   ]
  },
  {
   "cell_type": "code",
   "execution_count": 6,
   "metadata": {},
   "outputs": [
    {
     "name": "stdout",
     "output_type": "stream",
     "text": [
      "Using device: cuda\n"
     ]
    }
   ],
   "source": [
    "# Initialize particle filter network\n",
    "use_cuda = True #torch.cuda.is_available()\n",
    "device = torch.device(\"cuda\" if use_cuda else \"cpu\")\n",
    "print(\"Using device:\", device)\n",
    "\n",
    "try:\n",
    "    del pfnet\n",
    "    torch.cuda.empty_cache()\n",
    "    print(\"Deleted old model!\")\n",
    "except:\n",
    "    pass\n",
    "\n",
    "torch.autograd.set_detect_anomaly(True)\n",
    "dynamics = dpf_toy.RobotDynamicsModel()\n",
    "measurements = dpf_toy.DeepBeaconMeasurementModel()\n",
    "# measurements = dpf_toy.BeaconMeasurementModel(observer)\n",
    "pfnet = dpf.ParticleFilterNetwork(dynamics, measurements, 1.0).to(device)\n",
    "\n",
    "true_measurement_model = dpf_toy.BeaconMeasurementModel(observer)"
   ]
  },
  {
   "cell_type": "code",
   "execution_count": null,
   "metadata": {},
   "outputs": [],
   "source": []
  },
  {
   "cell_type": "code",
   "execution_count": 48,
   "metadata": {},
   "outputs": [],
   "source": [
    "# Helpers\n",
    "def to_torch(x):\n",
    "    return torch.from_numpy(x.astype(np.float32)).to(device)\n",
    "\n",
    "# Define optimizer\n",
    "optimizer = optim.Adam(pfnet.parameters())\n",
    "def set_lr(lr):\n",
    "    print(\"Setting learning rate to\", lr)\n",
    "    for g in optimizer.param_groups:\n",
    "        g['lr'] = lr\n",
    "\n",
    "# Training function\n",
    "def train(training_trajectories, epochs, subsequence_length=20, minibatch_size=10):\n",
    "    pfnet.train()\n",
    "\n",
    "    # Some constants\n",
    "    traj_count = len(training_trajectories)\n",
    "    minibatches = traj_count // minibatch_size\n",
    "    state_dim = training_trajectories[0][0].shape[1]\n",
    "    obs_dim = training_trajectories[0][1].shape[1]\n",
    "    control_dim = training_trajectories[0][2].shape[1]\n",
    "\n",
    "    for epoch in range(epochs):\n",
    "        traj_indices = np.random.choice(traj_count, size=traj_count)\n",
    "        for traj_minibatch in np.array_split(traj_indices, minibatches):\n",
    "\n",
    "            # Pull out minibatch trajectories\n",
    "            minibatch_states = []\n",
    "            minibatch_observations = []\n",
    "            minibatch_controls = []\n",
    "            for i in traj_minibatch:\n",
    "                traj = training_trajectories[i]\n",
    "                minibatch_states.append(traj[0])\n",
    "                minibatch_observations.append(traj[1])\n",
    "                minibatch_controls.append(traj[2])\n",
    "\n",
    "            # We assume all of our trajectories have the same length\n",
    "            traj_length = len(minibatch_observations[0])\n",
    "\n",
    "            # Generate list of overlapping subsequences\n",
    "            ## TODO: clean this mess up\n",
    "            subsequences = []\n",
    "            start = 0\n",
    "            end = start + subsequence_length\n",
    "            while end <= traj_length:\n",
    "                subsequences.append((start, end))\n",
    "                start += subsequence_length #// 2\n",
    "                end = start + subsequence_length\n",
    "            \n",
    "            # Initialize some constants...\n",
    "            # N := number of trajectories in our minibatch\n",
    "            # M := number of particles\n",
    "            N = len(minibatch_states)\n",
    "            M = 100\n",
    "\n",
    "            # First, initialize our particle state + weight tensors\n",
    "            particles = np.zeros((N, M, state_dim))\n",
    "            log_weights = np.ones((N, M)) * (-np.log(M))\n",
    "            for i, s in enumerate(minibatch_states):\n",
    "                # Set all particles to initial state\n",
    "                particles[i] = np.random.uniform([-1, -1, 0], [1, 1, 0], size=(M, state_dim)) #s[start][np.newaxis,:]\n",
    "\n",
    "                # TODO: this noise feels like a hack\n",
    "                #particles[i] += np.random.normal(0, (1, 1, 0.2), size=particles[i].shape)\n",
    "            particles = to_torch(particles)\n",
    "            log_weights = to_torch(log_weights)\n",
    "\n",
    "            # Optimize over each subsequence!\n",
    "            print(subsequences)\n",
    "            for start, end in subsequences:\n",
    "                \n",
    "                losses = []\n",
    "\n",
    "                for timestep in range(start, end):\n",
    "                    # Build observation tensor\n",
    "                    observations = np.zeros((N, obs_dim))\n",
    "                    for i, o in enumerate(minibatch_observations):\n",
    "                        observations[i] = o[timestep]\n",
    "                    observations = to_torch(observations)\n",
    "                    \n",
    "                    # Build control tensor\n",
    "                    controls = np.zeros((N, control_dim))\n",
    "                    for i, c in enumerate(minibatch_controls):\n",
    "                        controls[i] = c[timestep]\n",
    "                    controls = to_torch(controls)\n",
    "                    \n",
    "                    # Build labeled state tensor\n",
    "                    label_states = np.zeros((N, state_dim))\n",
    "                    for i, s in enumerate(minibatch_states):\n",
    "                        # Note the +1 to the index -- this is because we\n",
    "                        # include t=0 in the state list\n",
    "                        label_states[i] = s[timestep + 1]\n",
    "                    label_states = to_torch(label_states)\n",
    "                    \n",
    "                    # Propagate through particle filter\n",
    "                    best_states, particles, log_weights = pfnet.forward(\n",
    "                        particles, log_weights, observations, controls, resample=False)\n",
    "                    \n",
    "                    predicted = pfnet.measurement_model(observations, particles)\n",
    "                    true = true_measurement_model(observations, particles)\n",
    "                    weight_std = torch.std(log_weights, dim=[1])\n",
    "                    assert weight_std.shape == (N,)\n",
    "                    weight_std = torch.mean(weight_std)\n",
    "                    # print(weight_std.cpu().detach().numpy())\n",
    "                    # Compute loss\n",
    "                    loss = F.mse_loss(predicted, true)\n",
    "                    losses.append(loss)\n",
    "                    \n",
    "                    # Don't backprop through time\n",
    "                    particles = particles.detach()\n",
    "                    log_weights = log_weights.detach()\n",
    "\n",
    "                loss = torch.mean(torch.stack(losses))\n",
    "\n",
    "                # Optimize\n",
    "                optimizer.zero_grad()\n",
    "                loss.backward(retain_graph=True)\n",
    "                optimizer.step()\n",
    "\n",
    "                print(\"Training loss:\", loss.cpu().detach().numpy())\n",
    "            print(\">>>>\")\n"
   ]
  },
  {
   "cell_type": "code",
   "execution_count": 52,
   "metadata": {},
   "outputs": [
    {
     "name": "stdout",
     "output_type": "stream",
     "text": [
      "Setting learning rate to 3e-05\n",
      "[(0, 80)]\n",
      "Training loss: 0.1885209\n",
      ">>>>\n",
      "[(0, 80)]\n",
      "Training loss: 0.18213363\n",
      ">>>>\n",
      "[(0, 80)]\n",
      "Training loss: 0.1812363\n",
      ">>>>\n",
      "[(0, 80)]\n",
      "Training loss: 0.18571292\n",
      ">>>>\n",
      "[(0, 80)]\n",
      "Training loss: 0.15534389\n",
      ">>>>\n",
      "[(0, 80)]\n",
      "Training loss: 0.20863771\n",
      ">>>>\n",
      "[(0, 80)]\n",
      "Training loss: 0.18113999\n",
      ">>>>\n",
      "[(0, 80)]\n",
      "Training loss: 0.20414472\n",
      ">>>>\n",
      "[(0, 80)]\n",
      "Training loss: 0.16840482\n",
      ">>>>\n",
      "[(0, 80)]\n",
      "Training loss: 0.21007346\n",
      ">>>>\n",
      "[(0, 80)]\n",
      "Training loss: 0.18520662\n",
      ">>>>\n",
      "[(0, 80)]\n",
      "Training loss: 0.16734007\n",
      ">>>>\n",
      "[(0, 80)]\n",
      "Training loss: 0.1837843\n",
      ">>>>\n",
      "[(0, 80)]\n",
      "Training loss: 0.17234395\n",
      ">>>>\n",
      "[(0, 80)]\n",
      "Training loss: 0.20153211\n",
      ">>>>\n",
      "[(0, 80)]\n",
      "Training loss: 0.1682689\n",
      ">>>>\n",
      "[(0, 80)]\n",
      "Training loss: 0.18308608\n",
      ">>>>\n",
      "[(0, 80)]\n",
      "Training loss: 0.18825783\n",
      ">>>>\n",
      "[(0, 80)]\n",
      "Training loss: 0.18931417\n",
      ">>>>\n",
      "[(0, 80)]\n",
      "Training loss: 0.18318705\n",
      ">>>>\n",
      "[(0, 80)]\n"
     ]
    },
    {
     "ename": "KeyboardInterrupt",
     "evalue": "",
     "output_type": "error",
     "traceback": [
      "\u001b[0;31m---------------------------------------------------------------------------\u001b[0m",
      "\u001b[0;31mKeyboardInterrupt\u001b[0m                         Traceback (most recent call last)",
      "\u001b[0;32m<ipython-input-52-5c38fd512f7b>\u001b[0m in \u001b[0;36m<module>\u001b[0;34m()\u001b[0m\n\u001b[1;32m      1\u001b[0m \u001b[0mset_lr\u001b[0m\u001b[0;34m(\u001b[0m\u001b[0;36m3e-5\u001b[0m\u001b[0;34m)\u001b[0m\u001b[0;34m\u001b[0m\u001b[0;34m\u001b[0m\u001b[0m\n\u001b[0;32m----> 2\u001b[0;31m \u001b[0mtrain\u001b[0m\u001b[0;34m(\u001b[0m\u001b[0mtraining_trajectories\u001b[0m\u001b[0;34m[\u001b[0m\u001b[0;36m0\u001b[0m\u001b[0;34m:\u001b[0m\u001b[0;36m1\u001b[0m\u001b[0;34m]\u001b[0m\u001b[0;34m,\u001b[0m \u001b[0mepochs\u001b[0m\u001b[0;34m=\u001b[0m\u001b[0;36m50\u001b[0m\u001b[0;34m,\u001b[0m \u001b[0msubsequence_length\u001b[0m\u001b[0;34m=\u001b[0m\u001b[0;36m80\u001b[0m\u001b[0;34m,\u001b[0m \u001b[0mminibatch_size\u001b[0m\u001b[0;34m=\u001b[0m\u001b[0;36m1\u001b[0m\u001b[0;34m)\u001b[0m\u001b[0;34m\u001b[0m\u001b[0;34m\u001b[0m\u001b[0m\n\u001b[0m",
      "\u001b[0;32m<ipython-input-48-6794c1b71f22>\u001b[0m in \u001b[0;36mtrain\u001b[0;34m(training_trajectories, epochs, subsequence_length, minibatch_size)\u001b[0m\n\u001b[1;32m     95\u001b[0m                     \u001b[0;31m# Propagate through particle filter\u001b[0m\u001b[0;34m\u001b[0m\u001b[0;34m\u001b[0m\u001b[0;34m\u001b[0m\u001b[0m\n\u001b[1;32m     96\u001b[0m                     best_states, particles, log_weights = pfnet.forward(\n\u001b[0;32m---> 97\u001b[0;31m                         particles, log_weights, observations, controls, resample=False)\n\u001b[0m\u001b[1;32m     98\u001b[0m \u001b[0;34m\u001b[0m\u001b[0m\n\u001b[1;32m     99\u001b[0m                     \u001b[0mpredicted\u001b[0m \u001b[0;34m=\u001b[0m \u001b[0mpfnet\u001b[0m\u001b[0;34m.\u001b[0m\u001b[0mmeasurement_model\u001b[0m\u001b[0;34m(\u001b[0m\u001b[0mobservations\u001b[0m\u001b[0;34m,\u001b[0m \u001b[0mparticles\u001b[0m\u001b[0;34m)\u001b[0m\u001b[0;34m\u001b[0m\u001b[0;34m\u001b[0m\u001b[0m\n",
      "\u001b[0;32m~/dpf/localization/dpf.py\u001b[0m in \u001b[0;36mforward\u001b[0;34m(self, states_prev, log_weights_prev, observations, controls, resample)\u001b[0m\n\u001b[1;32m     58\u001b[0m         \u001b[0;31m# Particle re-weighting\u001b[0m\u001b[0;34m\u001b[0m\u001b[0;34m\u001b[0m\u001b[0;34m\u001b[0m\u001b[0m\n\u001b[1;32m     59\u001b[0m         \u001b[0mlog_weights_pred\u001b[0m \u001b[0;34m=\u001b[0m \u001b[0mlog_weights_prev\u001b[0m \u001b[0;34m+\u001b[0m\u001b[0;31m \u001b[0m\u001b[0;31m\\\u001b[0m\u001b[0;34m\u001b[0m\u001b[0;34m\u001b[0m\u001b[0m\n\u001b[0;32m---> 60\u001b[0;31m             \u001b[0mself\u001b[0m\u001b[0;34m.\u001b[0m\u001b[0mmeasurement_model\u001b[0m\u001b[0;34m(\u001b[0m\u001b[0mobservations\u001b[0m\u001b[0;34m,\u001b[0m \u001b[0mstates_pred\u001b[0m\u001b[0;34m)\u001b[0m\u001b[0;34m\u001b[0m\u001b[0;34m\u001b[0m\u001b[0m\n\u001b[0m\u001b[1;32m     61\u001b[0m \u001b[0;34m\u001b[0m\u001b[0m\n\u001b[1;32m     62\u001b[0m         \u001b[0;31m# Find best particle\u001b[0m\u001b[0;34m\u001b[0m\u001b[0;34m\u001b[0m\u001b[0;34m\u001b[0m\u001b[0m\n",
      "\u001b[0;32m/usr/local/lib64/python3.7/site-packages/torch/nn/modules/module.py\u001b[0m in \u001b[0;36m__call__\u001b[0;34m(self, *input, **kwargs)\u001b[0m\n\u001b[1;32m    539\u001b[0m             \u001b[0mresult\u001b[0m \u001b[0;34m=\u001b[0m \u001b[0mself\u001b[0m\u001b[0;34m.\u001b[0m\u001b[0m_slow_forward\u001b[0m\u001b[0;34m(\u001b[0m\u001b[0;34m*\u001b[0m\u001b[0minput\u001b[0m\u001b[0;34m,\u001b[0m \u001b[0;34m**\u001b[0m\u001b[0mkwargs\u001b[0m\u001b[0;34m)\u001b[0m\u001b[0;34m\u001b[0m\u001b[0;34m\u001b[0m\u001b[0m\n\u001b[1;32m    540\u001b[0m         \u001b[0;32melse\u001b[0m\u001b[0;34m:\u001b[0m\u001b[0;34m\u001b[0m\u001b[0;34m\u001b[0m\u001b[0m\n\u001b[0;32m--> 541\u001b[0;31m             \u001b[0mresult\u001b[0m \u001b[0;34m=\u001b[0m \u001b[0mself\u001b[0m\u001b[0;34m.\u001b[0m\u001b[0mforward\u001b[0m\u001b[0;34m(\u001b[0m\u001b[0;34m*\u001b[0m\u001b[0minput\u001b[0m\u001b[0;34m,\u001b[0m \u001b[0;34m**\u001b[0m\u001b[0mkwargs\u001b[0m\u001b[0;34m)\u001b[0m\u001b[0;34m\u001b[0m\u001b[0;34m\u001b[0m\u001b[0m\n\u001b[0m\u001b[1;32m    542\u001b[0m         \u001b[0;32mfor\u001b[0m \u001b[0mhook\u001b[0m \u001b[0;32min\u001b[0m \u001b[0mself\u001b[0m\u001b[0;34m.\u001b[0m\u001b[0m_forward_hooks\u001b[0m\u001b[0;34m.\u001b[0m\u001b[0mvalues\u001b[0m\u001b[0;34m(\u001b[0m\u001b[0;34m)\u001b[0m\u001b[0;34m:\u001b[0m\u001b[0;34m\u001b[0m\u001b[0;34m\u001b[0m\u001b[0m\n\u001b[1;32m    543\u001b[0m             \u001b[0mhook_result\u001b[0m \u001b[0;34m=\u001b[0m \u001b[0mhook\u001b[0m\u001b[0;34m(\u001b[0m\u001b[0mself\u001b[0m\u001b[0;34m,\u001b[0m \u001b[0minput\u001b[0m\u001b[0;34m,\u001b[0m \u001b[0mresult\u001b[0m\u001b[0;34m)\u001b[0m\u001b[0;34m\u001b[0m\u001b[0;34m\u001b[0m\u001b[0m\n",
      "\u001b[0;32m~/dpf/localization/dpf_toy.py\u001b[0m in \u001b[0;36mforward\u001b[0;34m(self, observations, states)\u001b[0m\n\u001b[1;32m    176\u001b[0m         merged_features = torch.cat(\n\u001b[1;32m    177\u001b[0m             \u001b[0;34m(\u001b[0m\u001b[0mobservation_features\u001b[0m\u001b[0;34m,\u001b[0m \u001b[0mstate_features\u001b[0m\u001b[0;34m)\u001b[0m\u001b[0;34m,\u001b[0m\u001b[0;34m\u001b[0m\u001b[0;34m\u001b[0m\u001b[0m\n\u001b[0;32m--> 178\u001b[0;31m             dim=2)\n\u001b[0m\u001b[1;32m    179\u001b[0m         \u001b[0;32massert\u001b[0m \u001b[0mmerged_features\u001b[0m\u001b[0;34m.\u001b[0m\u001b[0mshape\u001b[0m \u001b[0;34m==\u001b[0m \u001b[0;34m(\u001b[0m\u001b[0mN\u001b[0m\u001b[0;34m,\u001b[0m \u001b[0mM\u001b[0m\u001b[0;34m,\u001b[0m \u001b[0mself\u001b[0m\u001b[0;34m.\u001b[0m\u001b[0munits\u001b[0m\u001b[0;34m)\u001b[0m\u001b[0;34m\u001b[0m\u001b[0;34m\u001b[0m\u001b[0m\n\u001b[1;32m    180\u001b[0m \u001b[0;34m\u001b[0m\u001b[0m\n",
      "\u001b[0;31mKeyboardInterrupt\u001b[0m: "
     ]
    }
   ],
   "source": [
    "set_lr(3e-5)\n",
    "train(training_trajectories[0:1], epochs=50, subsequence_length=80, minibatch_size=1)"
   ]
  },
  {
   "cell_type": "code",
   "execution_count": 43,
   "metadata": {},
   "outputs": [
    {
     "data": {
      "text/plain": [
       "tensor([[1.2045, 1.4127, 1.3999, 1.4058, 1.3589, 1.3987, 1.4011, 1.4234, 1.3725,\n",
       "         1.2417, 1.4012, 1.3632, 1.4156, 1.4029, 1.3723, 1.2710, 1.3399, 1.3806,\n",
       "         1.3303, 1.3525]], device='cuda:0', grad_fn=<SqueezeBackward1>)"
      ]
     },
     "execution_count": 43,
     "metadata": {},
     "output_type": "execute_result"
    }
   ],
   "source": [
    "particle_states = to_torch(\n",
    "    np.random.normal(0., 1., size=(1, 20, 3))\n",
    ")\n",
    "observations = to_torch(observer.forward(particle_states[0:1, 0].cpu().numpy()))\n",
    "measurements(observations, particle_states)"
   ]
  },
  {
   "cell_type": "code",
   "execution_count": 44,
   "metadata": {},
   "outputs": [
    {
     "ename": "TypeError",
     "evalue": "__init__() missing 1 required positional argument: 'beacon_observer'",
     "output_type": "error",
     "traceback": [
      "\u001b[0;31m---------------------------------------------------------------------------\u001b[0m",
      "\u001b[0;31mTypeError\u001b[0m                                 Traceback (most recent call last)",
      "\u001b[0;32m<ipython-input-44-493a1151deae>\u001b[0m in \u001b[0;36m<module>\u001b[0;34m()\u001b[0m\n\u001b[0;32m----> 1\u001b[0;31m \u001b[0mdpf_toy\u001b[0m\u001b[0;34m.\u001b[0m\u001b[0mBeaconMeasurementModel\u001b[0m\u001b[0;34m(\u001b[0m\u001b[0;34m)\u001b[0m\u001b[0;34m\u001b[0m\u001b[0;34m\u001b[0m\u001b[0m\n\u001b[0m",
      "\u001b[0;31mTypeError\u001b[0m: __init__() missing 1 required positional argument: 'beacon_observer'"
     ]
    }
   ],
   "source": [
    "dpf_toy.BeaconMeasurementModel()"
   ]
  },
  {
   "cell_type": "code",
   "execution_count": 45,
   "metadata": {
    "scrolled": false
   },
   "outputs": [],
   "source": [
    "true_states, observations, controls = training_trajectories[0]\n",
    "num_particles = 500\n",
    "particle_states = torch.FloatTensor(\n",
    "    [[true_states[0] for _ in range(num_particles)]]).to(device)\n",
    "particle_weights = torch.ones((1,num_particles)).to(device)\n",
    "\n",
    "end = 80\n",
    "states = []\n",
    "for control, observation in zip(controls[:end], observations[:end]):\n",
    "    # Type conversions\n",
    "    observation = to_torch(observation[np.newaxis,:])\n",
    "    control = to_torch(control[np.newaxis,:])\n",
    "\n",
    "    # Particle filter network: forward\n",
    "    best_state, particle_states, particle_weights = pfnet.forward(\n",
    "        particle_states, particle_weights, observation, control, resample=True)\n",
    "    # print (np.std(particle_weights.cpu().detach().numpy()), np.mean(particle_weights.cpu().detach().numpy()))\n",
    "\n",
    "    states.append(best_state.cpu().detach().numpy())\n",
    "pf_states = np.array(states)\n",
    "particle_states = particle_states[0].cpu().detach().numpy()\n",
    "particle_weights = particle_weights[0].cpu().detach().numpy()"
   ]
  },
  {
   "cell_type": "code",
   "execution_count": 47,
   "metadata": {},
   "outputs": [
    {
     "name": "stdout",
     "output_type": "stream",
     "text": [
      "Trained network\n"
     ]
    },
    {
     "data": {
      "image/png": "[encoded data removed]",
      "text/plain": [
       "<Figure size 432x288 with 1 Axes>"
      ]
     },
     "metadata": {},
     "output_type": "display_data"
    }
   ],
   "source": [
    "print(\"Trained network\")\n",
    "# print(particle_weights)\n",
    "plot_trajectories(\n",
    "    true=true_states,\n",
    "    pf=pf_states,\n",
    "    particles=(particle_states, particle_weights),\n",
    "    beacons=observer.locations\n",
    ")"
   ]
  },
  {
   "cell_type": "code",
   "execution_count": null,
   "metadata": {},
   "outputs": [],
   "source": [
    "print(\"Trained network\")\n",
    "plot_trajectories(\n",
    "    true=true_states,\n",
    "    pf=pf_states,\n",
    "    particles=(particle_states[0].cpu().numpy(), particle_weights[0].cpu().numpy()),\n",
    "    beacons=observer.locations\n",
    ")"
   ]
  },
  {
   "cell_type": "code",
   "execution_count": null,
   "metadata": {},
   "outputs": [],
   "source": []
  },
  {
   "cell_type": "code",
   "execution_count": null,
   "metadata": {},
   "outputs": [],
   "source": []
  },
  {
   "cell_type": "code",
   "execution_count": null,
   "metadata": {},
   "outputs": [],
   "source": []
  },
  {
   "cell_type": "code",
   "execution_count": null,
   "metadata": {},
   "outputs": [],
   "source": []
  },
  {
   "cell_type": "code",
   "execution_count": null,
   "metadata": {},
   "outputs": [],
   "source": []
  }
 ],
 "metadata": {
  "kernelspec": {
   "display_name": "Python 3",
   "language": "python",
   "name": "python3"
  },
  "language_info": {
   "codemirror_mode": {
    "name": "ipython",
    "version": 3
   },
   "file_extension": ".py",
   "mimetype": "text/x-python",
   "name": "python",
   "nbconvert_exporter": "python",
   "pygments_lexer": "ipython3",
   "version": "3.7.5"
  }
 },
 "nbformat": 4,
 "nbformat_minor": 2
}
