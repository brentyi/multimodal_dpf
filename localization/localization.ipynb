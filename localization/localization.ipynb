{
 "cells": [
  {
   "cell_type": "code",
   "execution_count": 1,
   "metadata": {},
   "outputs": [],
   "source": [
    "%matplotlib inline\n",
    "%load_ext autoreload\n",
    "%autoreload 2\n",
    "\n",
    "import matplotlib.pyplot as plt\n",
    "import numpy as np\n",
    "import torch\n",
    "import torch.nn.functional as F\n",
    "import torch.optim as optim\n",
    "import time\n",
    "\n",
    "import dpf\n",
    "import dpf_toy\n"
   ]
  },
  {
   "cell_type": "code",
   "execution_count": 2,
   "metadata": {},
   "outputs": [],
   "source": [
    "iterations = 100\n",
    "\n",
    "# (x, y, theta)\n",
    "states = [np.array([0.0, 0.0, 0.0])]\n",
    "controls = []\n",
    "observations = []\n",
    "\n",
    "beacon_observer = dpf_toy.BeaconObserver()\n",
    "beacon_observer.add_beacon((5, 3), 0.2)\n",
    "beacon_observer.add_beacon((22, 8), 0.5)\n",
    "\n",
    "dynamics = dpf_toy.RobotDynamicsModel()\n",
    "\n",
    "# Simulation\n",
    "for _ in range(iterations):\n",
    "    control = torch.from_numpy(np.random.uniform(\n",
    "        low=[0, -0.1], high=[1, 0.1], size=(2,)).astype(np.float32))\n",
    "    new_state = dynamics.forward(\n",
    "        torch.from_numpy(states[-1][np.newaxis, :].astype(np.float32)), control, noisy=True)\n",
    "\n",
    "    states.append(new_state[0].numpy())\n",
    "    controls.append(control.numpy())\n",
    "true_states = np.array(states)\n",
    "\n",
    "# Dead-reckoning\n",
    "states = [true_states[0]]\n",
    "for control in controls:\n",
    "    new_state = dynamics.forward(\n",
    "        torch.from_numpy(states[-1][np.newaxis, :].astype(np.float32)), control, noisy=False)\n",
    "    states.append(new_state[0].numpy())\n",
    "dead_reckoned_states = np.array(states)\n"
   ]
  },
  {
   "cell_type": "code",
   "execution_count": 3,
   "metadata": {},
   "outputs": [
    {
     "data": {
      "text/plain": [
       "ParticleFilterNetwork(\n",
       "  (dynamics_model): RobotDynamicsModel()\n",
       "  (measurement_model): DeepBeaconMeasurementModel(\n",
       "    (observation_layers): Sequential(\n",
       "      (0): Linear(in_features=2, out_features=16, bias=True)\n",
       "      (1): LeakyReLU(negative_slope=0.01)\n",
       "    )\n",
       "    (state_layers): Sequential(\n",
       "      (0): Linear(in_features=3, out_features=16, bias=True)\n",
       "      (1): LeakyReLU(negative_slope=0.01)\n",
       "    )\n",
       "    (shared_layers): Sequential(\n",
       "      (0): Linear(in_features=32, out_features=16, bias=True)\n",
       "      (1): LeakyReLU(negative_slope=0.01)\n",
       "      (2): Linear(in_features=16, out_features=16, bias=True)\n",
       "      (3): LeakyReLU(negative_slope=0.01)\n",
       "      (4): Linear(in_features=16, out_features=16, bias=True)\n",
       "      (5): LeakyReLU(negative_slope=0.01)\n",
       "      (6): Linear(in_features=16, out_features=1, bias=True)\n",
       "      (7): LogSigmoid()\n",
       "    )\n",
       "  )\n",
       ")"
      ]
     },
     "execution_count": 3,
     "metadata": {},
     "output_type": "execute_result"
    }
   ],
   "source": [
    "\n",
    "# Particle filter network\n",
    "dynamics = dpf_toy.RobotDynamicsModel()\n",
    "measurements = dpf_toy.DeepBeaconMeasurementModel()\n",
    "\n",
    "torch.autograd.set_detect_anomaly(True)\n",
    "\n",
    "pfnet = dpf.ParticleFilterNetwork(dynamics, measurements, 0.5)\n",
    "pfnet.train()\n"
   ]
  },
  {
   "cell_type": "code",
   "execution_count": 6,
   "metadata": {},
   "outputs": [],
   "source": [
    "model = pfnet\n",
    "\n",
    "total_epochs = 0\n",
    "optimizer = optim.Adam(model.parameters())\n",
    "\n",
    "def set_lr(lr):\n",
    "    print(\"Setting learning rate to\", lr)\n",
    "    for g in optimizer.param_groups:\n",
    "        g['lr'] = lr\n",
    "\n",
    "def train(epoch, log_interval=10):\n",
    "    model.train()  # set training mode\n",
    "    iteration = 0\n",
    "    for ep in range(epoch):\n",
    "        start = time.time()\n",
    "\n",
    "        observations = beacon_observer.forward(true_states[1:])\n",
    "        states = [true_states[0]]\n",
    "        num_particles = 1000\n",
    "        prev_particle_states = torch.FloatTensor(\n",
    "            [true_states[0] for _ in range(num_particles)])\n",
    "        prev_particle_weights = torch.ones(num_particles)\n",
    "\n",
    "        loss = torch.FloatTensor(0)\n",
    "        \n",
    "        for i, (control, observation) in enumerate(zip(controls, observations)):\n",
    "            # Type conversions\n",
    "            observation = torch.from_numpy(observation.astype(np.float32))\n",
    "            control = torch.from_numpy(control.astype(np.float32))\n",
    "\n",
    "\n",
    "            #loss = F.mse_loss(particle_states[:,:2],\n",
    "            #                 torch.from_numpy(true_states[i + 1][np.newaxis,:2].astype(np.float32)))\n",
    "            # Particle filter network: forward\n",
    "            best_state, particle_states, particle_weights = pfnet.forward(\n",
    "                prev_particle_states, prev_particle_weights, observation, control)\n",
    "\n",
    "            loss += F.mse_loss(best_state, torch.from_numpy(true_states[i+1].astype(np.float32)))\n",
    "\n",
    "            prev_particle_states = particle_states\n",
    "            prev_particle_weights = particle_weights\n",
    "            \n",
    "            if i % 5 == 0:\n",
    "                # Backward pass\n",
    "                optimizer.zero_grad()\n",
    "                loss.backward(retain_graph=True)\n",
    "                optimizer.step()\n",
    "\n",
    "        print()\n",
    "\n",
    "\n",
    "\n",
    "        end = time.time()\n",
    "\n",
    "        global total_epochs\n",
    "        total_epochs += 1\n",
    "        print('{}: {:.2f}s'.format(total_epochs, end-start))"
   ]
  },
  {
   "cell_type": "code",
   "execution_count": 15,
   "metadata": {},
   "outputs": [
    {
     "name": "stdout",
     "output_type": "stream",
     "text": [
      "Setting learning rate to 0.0001\n",
      "Losses: \t 0.3409429\t 0.06247653\t 0.021921372\t 0.01037909\t 0.013366989\n",
      "Losses: \t 0.112154186\t 0.6599075\t 2.7755115\t 5.815807\t 8.570806\n",
      "Losses: \t 7.30528\t 5.048078\t 3.23763\t 2.048273\t 1.2368402\n",
      "Losses: \t 2.6744335\t 1.3957709\t 0.6358086\t 0.31335554\t 0.17914979\n",
      "Losses: \t 0.19365782\t 0.2063651\t 0.23417282\t 0.25679296\t 0.25702208\n",
      "Losses: \t 0.37347448\t 0.5956528\t 0.9312641\t 1.4041368\t 2.2390523\n",
      "Losses: \t 1.2567928\t 0.91938126\t 0.70411056\t 0.54555804\t 0.40639326\n",
      "Losses: \t 0.12640718\t 0.11639469\t 0.107430905\t 0.10858813\t 0.12147833\n",
      "Losses: \t 0.03649043\t 0.05024947\t 0.066541575\t 0.08498416\t 0.112659104\n",
      "Losses: \t 0.070789956\t 0.07881739\t 0.08156066\t 0.087916896\t 0.0938764\n",
      "Losses: \t 0.13814586\t 0.16152938\t 0.19200845\t 0.22431102\t 0.26344165\n",
      "Losses: \t 0.39600915\t 0.34654272\t 0.29416654\t 0.25501317\t 0.22574314\n",
      "Losses: \t 0.23853993\t 0.25087678\t 0.2646413\t 0.27913475\t 0.29977882\n",
      "Losses: \t 0.31714538\t 0.30448234\t 0.28640085\t 0.28841105\t 0.2774586\n",
      "Losses: \t 0.3250761\t 0.32892916\t 0.32878432\t 0.32822484\t 0.34611797\n",
      "Losses: \t 0.34206447\t 0.39635006\t 0.44449952\t 0.4899371\t 0.5368696\n",
      "Losses: \t 0.9087952\t 1.5981705\t 2.3831673\t 3.4208164\t 4.598545\n",
      "Losses: \t 3.7004294\t 2.5640092\t 1.6182642\t 1.0616908\t 0.8039545\n",
      "Losses: \t 0.6061428\t 0.54796296\t 0.5062709\t 0.4996584\t 0.5137552\n",
      "Losses: \t 0.4906467\t 0.48809186\t 0.49457687\t 0.53286177\t 0.56010604\n",
      "Losses: \t 0.5101165\t 0.49890995\t 0.48165137\t 0.49444067\t 0.5095604\n",
      "Losses: \t 0.5222235\t 0.5525234\t 0.5898202\t 0.6292996\t 0.66862655\n",
      "Losses: \t 0.61892796\t 0.6444251\t 0.6681356\t 0.70117074\t 0.72850007\n",
      "Losses: \t 0.9711525\t 0.9563534\t 0.9462709\t 0.92978036\t 0.9167025\n",
      "Losses: \t 1.1239717\t 1.0672133\t 1.0058086\t 0.96064883\t 0.92988795\n",
      "Losses: \t 1.0831167\t 1.0670228\t 1.0756232\t 1.0803539\t 1.0825654\n",
      "Losses: \t 1.505955\t 1.491757\t 1.4947091\t 1.487277\t 1.4796273\n",
      "Losses: \t 1.353396\t 1.378726\t 1.3988699\t 1.4318306\t 1.4714807\n",
      "Losses: \t 1.7322687\t 1.7074614\t 1.6808127\t 1.6589764\t 1.6422964\n",
      "Losses: \t 1.465772\t 1.4476693\t 1.4669249\t 1.5671335\t 1.6309997\n",
      "Losses: \t 1.6737322\t 1.9571837\t 2.5115943\t 3.0577135\t 3.9790597\n",
      "Losses: \t 5.0551047\t 5.119659\t 5.1310186\t 5.141248\t 5.273465\n",
      "Losses: \t 5.303472\t 5.26993\t 5.4841776\t 5.510413\t 5.5681567\n",
      "Losses: \t 6.8937635\t 7.7666273\t 8.486651\t 9.056108\t 9.732241\n",
      "Losses: \t 9.927065\t 9.917857\t 9.818803\t 9.892894\t 9.965041\n",
      "Losses: \t 9.052629\t 8.273381\t 7.17288\t 5.9651456\t 5.1556144\n",
      "Losses: \t 4.118334\t 3.6237538\t 3.0436232\t 2.7157419\t 2.4713786\n",
      "Losses: \t 2.5415814\t 2.5555384\t 2.5334706\t 2.4944763\t 2.5268834\n",
      "Losses: \t 2.6067328\t 2.6526828\t 2.644698\t 2.7009258\t 2.7777646\n",
      "Losses: \t 3.1674368\t 3.2561624\t 3.4111927\t 3.6392648\t 3.7243054\n",
      "Losses: \t 4.2615423\t 4.618693\t 5.403735\t 6.1689353\t 7.0180492\n",
      "Losses: \t 5.6911926\t 5.193222\t 4.659569\t 4.121612\t 3.7980971\n",
      "Losses: \t 4.279428\t 4.3073483\t 4.4287944\t 4.5069127\t 4.624266\n",
      "Losses: \t 6.924216\t 6.3266373\t 5.906771\t 5.5407104\t 5.201372\n",
      "Losses: \t 4.980772\t 4.626352\t 4.1907864\t 3.8366804\t 3.6225321\n",
      "Losses: \t 4.0683355\t 4.146469\t 4.196188\t 4.3158083\t 4.4823003\n",
      "Losses: \t 4.2341075\t 3.9242477\t 3.7717464\t 3.6315792\t 3.512774\n",
      "Losses: \t 3.754166\t 3.7547212\t 3.7667308\t 3.774498\t 3.8183815\n",
      "Losses: \t 4.0138106\t 3.938889\t 3.92813\t 3.9077573\t 3.913528\n",
      "Losses: \t 4.3355813\t 4.3811545\t 4.450142\t 4.5542207\t 4.5994277\n",
      "Losses: \t 4.757633\t 4.937866\t 5.105725\t 5.2077622\t 5.3850613\n",
      "Losses: \t 6.012082\t 6.32617\t 6.5964246\t 7.0520644\t 7.465832\n",
      "Losses: \t 7.099511\t 6.907515\t 6.595763\t 6.3646917\t 6.1595073\n",
      "Losses: \t 5.6891084\t 5.347163\t 5.0802064\t 4.8164334\t 4.6539917\n",
      "Losses: \t 4.6066446\t 4.8044767\t 5.0209455\t 5.1868014\t 5.366652\n",
      "Losses: \t 5.1959023\t 4.955231\t 4.7683277\t 4.6511807\t 4.62465\n",
      "Losses: \t 4.6529484\t 4.675035\t 4.646351\t 4.6482124\t 4.6439967\n",
      "Losses: \t 5.1033177\t 5.1122856\t 5.1519766\t 5.2430296\t 5.3153944\n",
      "Losses: \t 5.4528413\t 5.4562197\t 5.440115\t 5.4305687\t 5.445214\n",
      "Losses: \t 5.0103006\t 4.989043\t 4.986516\t 4.964737\t 4.962231\n",
      "Losses: \t 4.76007\t 4.7559686\t 4.7456656\t 4.74701\t 4.755468\n",
      "Losses: \t 4.2986574\t 4.2922015\t 4.291289\t 4.2814264\t 4.305295\n",
      "Losses: \t 4.2834167\t 4.260274\t 4.2347083\t 4.1934767\t 4.177304\n",
      "Losses: \t 4.385586\t 4.406163\t 4.3980412\t 4.4397225\t 4.46886\n",
      "Losses: \t 4.9472466\t 4.946723\t 4.938484\t 4.933006\t 4.925825\n",
      "Losses: \t 5.531047\t 5.5709553\t 5.60867\t 5.6622915\t 5.7292705\n",
      "Losses: \t 6.407224\t 6.503865\t 6.6209884\t 6.7137427\t 6.8160734\n",
      "Losses: \t 8.145151\t 8.262217\t 8.378227\t 8.495068\t 8.631626\n",
      "Losses: \t 11.190354\t 11.374362\t 11.575929\t 11.778524\t 11.971295\n",
      "Losses: \t 15.539908\t 15.970428\t 16.408876\t 16.839113\t 17.232107\n",
      "Losses: \t 24.447556\t 24.782272\t 25.127048\t 25.387457\t 25.687296\n",
      "Losses: \t 28.782492\t 28.581896\t 28.31443\t 28.114227\t 27.909382\n",
      "Losses: \t 30.308445\t 30.305592\t 30.347263\t 30.36451\t 30.427261\n",
      "Losses: \t 39.793915\t 39.036907\t 38.281017\t 37.496464\t 36.780594\n",
      "Losses: \t 36.085186\t 35.998318\t 35.967953\t 35.94497\t 35.86458\n",
      "Losses: \t 39.46839\t 39.924232\t 40.307816\t 40.705795\t 41.11527\n",
      "Losses: \t 46.467014\t 46.176086\t 45.849426\t 45.499374\t 45.156334\n",
      "Losses: \t 49.179398\t 49.119576\t 49.13008\t 49.224453\t 49.28018"
     ]
    },
    {
     "ename": "KeyboardInterrupt",
     "evalue": "",
     "output_type": "error",
     "traceback": [
      "\u001b[0;31m---------------------------------------------------------------------------\u001b[0m",
      "\u001b[0;31mKeyboardInterrupt\u001b[0m                         Traceback (most recent call last)",
      "\u001b[0;32m<ipython-input-15-92ce8380300d>\u001b[0m in \u001b[0;36m<module>\u001b[0;34m()\u001b[0m\n\u001b[1;32m      1\u001b[0m \u001b[0mset_lr\u001b[0m\u001b[0;34m(\u001b[0m\u001b[0;36m1e-4\u001b[0m\u001b[0;34m)\u001b[0m\u001b[0;34m\u001b[0m\u001b[0;34m\u001b[0m\u001b[0m\n\u001b[0;32m----> 2\u001b[0;31m \u001b[0mtrain\u001b[0m\u001b[0;34m(\u001b[0m\u001b[0;36m10\u001b[0m\u001b[0;34m)\u001b[0m\u001b[0;34m\u001b[0m\u001b[0;34m\u001b[0m\u001b[0m\n\u001b[0m",
      "\u001b[0;32m<ipython-input-6-987b7d33c511>\u001b[0m in \u001b[0;36mtrain\u001b[0;34m(epoch, log_interval)\u001b[0m\n\u001b[1;32m     43\u001b[0m                 \u001b[0;31m# Backward pass\u001b[0m\u001b[0;34m\u001b[0m\u001b[0;34m\u001b[0m\u001b[0;34m\u001b[0m\u001b[0m\n\u001b[1;32m     44\u001b[0m                 \u001b[0moptimizer\u001b[0m\u001b[0;34m.\u001b[0m\u001b[0mzero_grad\u001b[0m\u001b[0;34m(\u001b[0m\u001b[0;34m)\u001b[0m\u001b[0;34m\u001b[0m\u001b[0;34m\u001b[0m\u001b[0m\n\u001b[0;32m---> 45\u001b[0;31m                 \u001b[0mloss\u001b[0m\u001b[0;34m.\u001b[0m\u001b[0mbackward\u001b[0m\u001b[0;34m(\u001b[0m\u001b[0mretain_graph\u001b[0m\u001b[0;34m=\u001b[0m\u001b[0;32mTrue\u001b[0m\u001b[0;34m)\u001b[0m\u001b[0;34m\u001b[0m\u001b[0;34m\u001b[0m\u001b[0m\n\u001b[0m\u001b[1;32m     46\u001b[0m                 \u001b[0moptimizer\u001b[0m\u001b[0;34m.\u001b[0m\u001b[0mstep\u001b[0m\u001b[0;34m(\u001b[0m\u001b[0;34m)\u001b[0m\u001b[0;34m\u001b[0m\u001b[0;34m\u001b[0m\u001b[0m\n\u001b[1;32m     47\u001b[0m \u001b[0;34m\u001b[0m\u001b[0m\n",
      "\u001b[0;32m/usr/local/lib/python3.6/dist-packages/torch/tensor.py\u001b[0m in \u001b[0;36mbackward\u001b[0;34m(self, gradient, retain_graph, create_graph)\u001b[0m\n\u001b[1;32m    148\u001b[0m                 \u001b[0mproducts\u001b[0m\u001b[0;34m.\u001b[0m \u001b[0mDefaults\u001b[0m \u001b[0mto\u001b[0m\u001b[0;31m \u001b[0m\u001b[0;31m`\u001b[0m\u001b[0;31m`\u001b[0m\u001b[0;32mFalse\u001b[0m\u001b[0;31m`\u001b[0m\u001b[0;31m`\u001b[0m\u001b[0;34m.\u001b[0m\u001b[0;34m\u001b[0m\u001b[0;34m\u001b[0m\u001b[0m\n\u001b[1;32m    149\u001b[0m         \"\"\"\n\u001b[0;32m--> 150\u001b[0;31m         \u001b[0mtorch\u001b[0m\u001b[0;34m.\u001b[0m\u001b[0mautograd\u001b[0m\u001b[0;34m.\u001b[0m\u001b[0mbackward\u001b[0m\u001b[0;34m(\u001b[0m\u001b[0mself\u001b[0m\u001b[0;34m,\u001b[0m \u001b[0mgradient\u001b[0m\u001b[0;34m,\u001b[0m \u001b[0mretain_graph\u001b[0m\u001b[0;34m,\u001b[0m \u001b[0mcreate_graph\u001b[0m\u001b[0;34m)\u001b[0m\u001b[0;34m\u001b[0m\u001b[0;34m\u001b[0m\u001b[0m\n\u001b[0m\u001b[1;32m    151\u001b[0m \u001b[0;34m\u001b[0m\u001b[0m\n\u001b[1;32m    152\u001b[0m     \u001b[0;32mdef\u001b[0m \u001b[0mregister_hook\u001b[0m\u001b[0;34m(\u001b[0m\u001b[0mself\u001b[0m\u001b[0;34m,\u001b[0m \u001b[0mhook\u001b[0m\u001b[0;34m)\u001b[0m\u001b[0;34m:\u001b[0m\u001b[0;34m\u001b[0m\u001b[0;34m\u001b[0m\u001b[0m\n",
      "\u001b[0;32m/usr/local/lib/python3.6/dist-packages/torch/autograd/__init__.py\u001b[0m in \u001b[0;36mbackward\u001b[0;34m(tensors, grad_tensors, retain_graph, create_graph, grad_variables)\u001b[0m\n\u001b[1;32m     97\u001b[0m     Variable._execution_engine.run_backward(\n\u001b[1;32m     98\u001b[0m         \u001b[0mtensors\u001b[0m\u001b[0;34m,\u001b[0m \u001b[0mgrad_tensors\u001b[0m\u001b[0;34m,\u001b[0m \u001b[0mretain_graph\u001b[0m\u001b[0;34m,\u001b[0m \u001b[0mcreate_graph\u001b[0m\u001b[0;34m,\u001b[0m\u001b[0;34m\u001b[0m\u001b[0;34m\u001b[0m\u001b[0m\n\u001b[0;32m---> 99\u001b[0;31m         allow_unreachable=True)  # allow_unreachable flag\n\u001b[0m\u001b[1;32m    100\u001b[0m \u001b[0;34m\u001b[0m\u001b[0m\n\u001b[1;32m    101\u001b[0m \u001b[0;34m\u001b[0m\u001b[0m\n",
      "\u001b[0;31mKeyboardInterrupt\u001b[0m: "
     ]
    }
   ],
   "source": [
    "set_lr(1e-4)\n",
    "train(10)"
   ]
  },
  {
   "cell_type": "code",
   "execution_count": 8,
   "metadata": {
    "scrolled": false
   },
   "outputs": [],
   "source": [
    "observations = beacon_observer.forward(true_states[1:])\n",
    "states = [true_states[0]]\n",
    "num_particles = 1000\n",
    "particle_states = torch.FloatTensor(\n",
    "    [true_states[0] for _ in range(num_particles)])\n",
    "particle_weights = torch.ones(num_particles)\n",
    "\n",
    "end = 100\n",
    "for control, observation in zip(controls[:end], observations[:end]):\n",
    "    # Type conversions\n",
    "    observation = torch.from_numpy(observation.astype(np.float32))\n",
    "    control = torch.from_numpy(control.astype(np.float32))\n",
    "\n",
    "    # Particle filter network: forward\n",
    "    best_state, particle_states, particle_weights = pfnet.forward(\n",
    "        particle_states, particle_weights, observation, control)\n",
    "\n",
    "    states.append(best_state.detach().numpy())\n",
    "pf_states = np.array(states)\n"
   ]
  },
  {
   "cell_type": "code",
   "execution_count": 16,
   "metadata": {},
   "outputs": [],
   "source": [
    "def plot():\n",
    "    # Plot trajectories\n",
    "    plt.scatter(dead_reckoned_states[:, 0],\n",
    "                dead_reckoned_states[:, 1], marker=\".\", label=\"Dead-reckoned\")\n",
    "    plt.scatter(true_states[:, 0], true_states[:, 1],\n",
    "                marker=\".\", label=\"Ground-truth\")\n",
    "    plt.scatter(pf_states[:, 0], pf_states[:, 1],\n",
    "                marker=\".\", label=\"Particle Filter\")\n",
    "    # print(pf_states)\n",
    "\n",
    "    plt.scatter(particle_states.numpy()[:, 0], particle_states.numpy()[:, 1], marker=\".\", label=\"Particles\")\n",
    "\n",
    "    # Plot beacons\n",
    "    beacon_locations = np.asarray(beacon_observer.locations)\n",
    "    plt.scatter(beacon_locations[:, 0], beacon_locations[:, 1], label=\"Beacons\")\n",
    "\n",
    "    plt.legend()\n",
    "    plt.show()"
   ]
  },
  {
   "cell_type": "code",
   "execution_count": 18,
   "metadata": {},
   "outputs": [
    {
     "data": {
      "image/png": "[encoded data removed]",
      "text/plain": [
       "<Figure size 432x288 with 1 Axes>"
      ]
     },
     "metadata": {},
     "output_type": "display_data"
    }
   ],
   "source": [
    "plot()"
   ]
  },
  {
   "cell_type": "code",
   "execution_count": 42,
   "metadata": {},
   "outputs": [
    {
     "data": {
      "image/png": "[encoded data removed]",
      "text/plain": [
       "<Figure size 432x288 with 1 Axes>"
      ]
     },
     "metadata": {},
     "output_type": "display_data"
    }
   ],
   "source": [
    "plot()"
   ]
  },
  {
   "cell_type": "code",
   "execution_count": null,
   "metadata": {},
   "outputs": [],
   "source": []
  }
 ],
 "metadata": {
  "kernelspec": {
   "display_name": "Python 3",
   "language": "python",
   "name": "python3"
  },
  "language_info": {
   "codemirror_mode": {
    "name": "ipython",
    "version": 3
   },
   "file_extension": ".py",
   "mimetype": "text/x-python",
   "name": "python",
   "nbconvert_exporter": "python",
   "pygments_lexer": "ipython3",
   "version": "3.6.8"
  }
 },
 "nbformat": 4,
 "nbformat_minor": 2
}
