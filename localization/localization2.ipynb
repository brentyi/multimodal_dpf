{
 "cells": [
  {
   "cell_type": "code",
   "execution_count": 1,
   "metadata": {},
   "outputs": [],
   "source": [
    "%matplotlib inline\n",
    "%load_ext autoreload\n",
    "%autoreload 2\n",
    "\n",
    "import matplotlib.pyplot as plt\n",
    "import numpy as np\n",
    "import torch\n",
    "import torch.nn.functional as F\n",
    "import torch.optim as optim\n",
    "import time\n",
    "\n",
    "import dpf\n",
    "import dpf_toy\n",
    "\n",
    "def to_torch(x):\n",
    "    return torch.from_numpy(x.astype(np.float32)).to(device)\n",
    "def to_numpy(x):\n",
    "    return x.detach().cpu().numpy()"
   ]
  },
  {
   "cell_type": "code",
   "execution_count": 2,
   "metadata": {},
   "outputs": [],
   "source": [
    "### Some helpers for generating data\n",
    "###\n",
    "\n",
    "observer = dpf_toy.BeaconObserver()\n",
    "observer.add_beacon((5, 3), 0.2)\n",
    "observer.add_beacon((22, 8), 0.5)\n",
    "observer.add_beacon((12, -10), 0.5)\n",
    "\n",
    "# Simulation\n",
    "def simulate_trajectory(timesteps=100):\n",
    "    dynamics = dpf_toy.RobotDynamicsModel()\n",
    "\n",
    "    # Generate states, control inputs\n",
    "    states = [np.array([0., 0., 0.])]\n",
    "    \n",
    "    # First control input is unuseful -- inject NaNs to make sure they're never used :)\n",
    "    controls = [np.array([np.nan, np.nan])]\n",
    "    for _ in range(timesteps):\n",
    "        control = torch.from_numpy(np.random.uniform(\n",
    "            low=[0, -0.1], high=[0.4, 0.1], size=(2,)).astype(np.float32))\n",
    "        new_state = dynamics.forward(\n",
    "            torch.from_numpy(states[-1][np.newaxis, np.newaxis, :].astype(np.float32)), control[np.newaxis,:], noisy=True)\n",
    "\n",
    "        states.append(new_state[0,0].numpy())\n",
    "        controls.append(control.numpy())\n",
    "\n",
    "    # Remove initial state\n",
    "    states = states\n",
    "\n",
    "    # Generate observations from ground-truth states\n",
    "    observations = observer.forward(states)\n",
    "\n",
    "    return states, observations, controls\n",
    "\n",
    "# Dead-reckoning\n",
    "def dead_reckon(controls, initial_state=np.array([0., 0., 0.])):\n",
    "    dynamics = dpf_toy.RobotDynamicsModel()\n",
    "\n",
    "    states = [initial_state]\n",
    "    for control in controls:\n",
    "        new_state = dynamics.forward(\n",
    "            torch.from_numpy(states[-1][np.newaxis, :].astype(np.float32)), control, noisy=False)\n",
    "        states.append(new_state[0].numpy())\n",
    "    \n",
    "    # Remove initial state and return\n",
    "    return states\n",
    "\n",
    "# Visualization helper\n",
    "def plot_trajectories(*states_list, **states_dict):\n",
    "    import itertools\n",
    "    plt.figure()\n",
    "    for label, states in itertools.chain(states_dict.items(), enumerate(states_list)):\n",
    "        if label == \"particles\":\n",
    "            # Format for particles should be states, log_weights\n",
    "            assert len(states) == 2\n",
    "            states, log_weights = states\n",
    "            weights = np.exp(log_weights)\n",
    "            weights /= np.max(weights)\n",
    "            \n",
    "            rgba = np.zeros((len(weights),4))\n",
    "            rgba[:,3] = weights * 0.9 + 0.1\n",
    "\n",
    "            x = np.asarray(states).T[0]\n",
    "            y = np.asarray(states).T[1]\n",
    "            plt.scatter(x, y, label=label, c=rgba)\n",
    "        else:\n",
    "            x = np.asarray(states).T[0]\n",
    "            y = np.asarray(states).T[1]\n",
    "            plt.scatter(x, y, label=label)\n",
    "\n",
    "        \n",
    "    plt.legend()\n",
    "    plt.show()\n"
   ]
  },
  {
   "cell_type": "code",
   "execution_count": 3,
   "metadata": {},
   "outputs": [],
   "source": [
    "## Generate some training data\n",
    "#\n",
    "training_trajectories = []\n",
    "for _ in range(100):\n",
    "    # States, observations, controls\n",
    "    s, o, u = simulate_trajectory(80)\n",
    "    training_trajectories.append((np.asarray(s), np.asarray(o), np.asarray(u)))"
   ]
  },
  {
   "cell_type": "code",
   "execution_count": 4,
   "metadata": {},
   "outputs": [
    {
     "data": {
      "image/png": "[encoded data removed]",
      "text/plain": [
       "<Figure size 432x288 with 1 Axes>"
      ]
     },
     "metadata": {},
     "output_type": "display_data"
    }
   ],
   "source": [
    "plot_trajectories(*[t[0] for t in training_trajectories[:5]])\n"
   ]
  },
  {
   "cell_type": "code",
   "execution_count": 5,
   "metadata": {},
   "outputs": [
    {
     "name": "stdout",
     "output_type": "stream",
     "text": [
      "Using device: cuda\n"
     ]
    }
   ],
   "source": [
    "# Initialize particle filter network\n",
    "use_cuda = True #torch.cuda.is_available()\n",
    "device = torch.device(\"cuda\" if use_cuda else \"cpu\")\n",
    "print(\"Using device:\", device)\n",
    "\n",
    "try:\n",
    "    del pfnet\n",
    "    torch.cuda.empty_cache()\n",
    "    print(\"Deleted old model!\")\n",
    "except:\n",
    "    pass\n",
    "\n",
    "torch.autograd.set_detect_anomaly(True)\n",
    "dynamics = dpf_toy.DeepRobotDynamicsModel()\n",
    "measurements = dpf_toy.DeepBeaconMeasurementModel()\n",
    "# measurements = dpf_toy.BeaconMeasurementModel(observer)\n",
    "pfnet = dpf.ParticleFilterNetwork(dynamics, measurements, 1.0).to(device)"
   ]
  },
  {
   "cell_type": "code",
   "execution_count": 6,
   "metadata": {},
   "outputs": [],
   "source": [
    "trainset = dpf.ParticleFilterDataset(\n",
    "    training_trajectories[0:1],\n",
    "    subsequence_length=2,\n",
    "    particle_count=100,\n",
    "    particle_variances = [3, 3, 0.3]\n",
    ")\n",
    "trainset_loader = torch.utils.data.DataLoader(trainset, batch_size=32, shuffle=True, num_workers=1)"
   ]
  },
  {
   "cell_type": "code",
   "execution_count": 7,
   "metadata": {},
   "outputs": [
    {
     "name": "stdout",
     "output_type": "stream",
     "text": [
      "test\n"
     ]
    }
   ],
   "source": [
    "print(\"test\")"
   ]
  },
  {
   "cell_type": "code",
   "execution_count": 8,
   "metadata": {},
   "outputs": [],
   "source": [
    "# Define optimizer\n",
    "optimizer = optim.Adam(pfnet.parameters())\n",
    "def train(learning_rate=1e-5, log=True):\n",
    "    # Set learning rate\n",
    "    # print(\"Setting learning rate to\", learning_rate)\n",
    "    for g in optimizer.param_groups:\n",
    "        g['lr'] = learning_rate\n",
    "\n",
    "    # Train for 1 epoch\n",
    "    for batch_idx, batch in enumerate(trainset_loader):\n",
    "        # Transfer to GPU and pull out batch data\n",
    "        batch_gpu = [x.to(device) for x in batch]\n",
    "        batch_particles, batch_states, batch_obs, batch_controls = batch_gpu\n",
    "\n",
    "        # N = batch size, M = particle count\n",
    "        N, timesteps, obs_dim = batch_obs.shape\n",
    "        N, timesteps, control_dim = batch_controls.shape\n",
    "        N, timesteps, state_dim = batch_states.shape\n",
    "        N, M, state_dim = batch_particles.shape\n",
    "        assert batch_obs.shape == (N, timesteps, obs_dim)\n",
    "        assert batch_controls.shape == (N, timesteps, control_dim)\n",
    "\n",
    "        # Give all particle equal weights\n",
    "        particles = batch_particles\n",
    "        log_weights = torch.ones((N, M), device=device) * (-np.log(M))\n",
    "\n",
    "        for t in range(1, timesteps):\n",
    "            prev_particles = particles\n",
    "            prev_log_weights = log_weights\n",
    "\n",
    "            _, new_particles, new_log_weights = pfnet.forward(\n",
    "                prev_particles,\n",
    "                prev_log_weights,\n",
    "                batch_obs[:,t - 1,:],\n",
    "                batch_controls[:,t,:],\n",
    "                resample=False\n",
    "            )\n",
    "\n",
    "            \n",
    "            optimizer.zero_grad()\n",
    "            loss.backward(retain_graph=False)\n",
    "            optimizer.step()\n",
    "            assert loss.shape == ()\n",
    "\n",
    "            particles = new_particles.detach()\n",
    "            log_weights = new_log_weights.detach()\n",
    "\n",
    "    if log:\n",
    "        max_belief = torch.max(torch.exp(log_beliefs))\n",
    "        print(to_numpy(loss), \"\\t\", to_numpy(max_belief))\n"
   ]
  },
  {
   "cell_type": "code",
   "execution_count": 52,
   "metadata": {},
   "outputs": [
    {
     "name": "stdout",
     "output_type": "stream",
     "text": [
      "12.242131 \t 5.057481\n",
      "10.498567 \t 4.8382144\n",
      "23.531033 \t 3.6606019\n",
      "-0.090326846 \t 2.2827203\n",
      "13.390335 \t 4.7710686\n",
      "13.324146 \t 4.575337\n",
      "12.592471 \t 4.8176394\n",
      "12.750667 \t 4.66554\n",
      "-1.2140822 \t 4.766094\n",
      "13.051851 \t 3.3171113\n",
      "13.084541 \t 4.8398514\n",
      "-1.1424329 \t 4.9001174\n",
      "12.936759 \t 4.6448135\n",
      "27.94685 \t 5.089814\n",
      "9.295139 \t 5.3220077\n",
      "13.352878 \t 4.2578053\n",
      "-1.2366818 \t 5.2589946\n",
      "-1.1226954 \t 5.545176\n",
      "-1.1420202 \t 4.825485\n",
      "-0.86847043 \t 5.1298923\n",
      "-0.35198292 \t 5.107374\n",
      "10.671716 \t 5.2063437\n",
      "-1.3459516 \t 5.334451\n",
      "-0.94709265 \t 4.897168\n",
      "12.2039175 \t 5.2465653\n",
      "-1.0985991 \t 4.7630467\n",
      "12.318936 \t 4.1124053\n",
      "26.613607 \t 5.8851275\n",
      "10.573008 \t 5.0558214\n",
      "13.549808 \t 4.9536166\n",
      "-1.0781558 \t 4.378261\n",
      "13.215008 \t 4.8043075\n",
      "12.341362 \t 5.145628\n",
      "25.116451 \t 4.85305\n",
      "-1.1429765 \t 5.2975764\n",
      "27.577084 \t 4.1532087\n",
      "-1.1121336 \t 4.8428364\n",
      "23.48228 \t 4.9996495\n",
      "-1.0628049 \t 4.985373\n",
      "12.89265 \t 4.93915\n",
      "12.631127 \t 5.8949313\n",
      "-1.1762605 \t 5.5772514\n",
      "13.572744 \t 5.436129\n",
      "11.845615 \t 5.718593\n",
      "12.829078 \t 5.241749\n",
      "14.222515 \t 5.353591\n",
      "-1.2929528 \t 5.4002714\n",
      "-1.3004463 \t 6.0856915\n",
      "-0.47958437 \t 4.6125617\n",
      "12.490018 \t 4.540539\n",
      "-1.0695288 \t 5.3066964\n",
      "11.65424 \t 5.6391625\n",
      "-0.4806598 \t 4.5536165\n",
      "-1.285067 \t 4.893754\n",
      "12.536287 \t 4.9228115\n",
      "-1.3808837 \t 5.361757\n",
      "11.047618 \t 5.076883\n",
      "11.144615 \t 5.8822203\n",
      "-1.2728266 \t 5.6468854\n",
      "12.6930895 \t 5.075463\n",
      "12.259445 \t 5.037529\n",
      "12.052611 \t 5.0872054\n",
      "11.691192 \t 5.336929\n",
      "11.898994 \t 5.66702\n",
      "11.218148 \t 5.808022\n",
      "15.20292 \t 4.98534\n",
      "13.415933 \t 5.201285\n",
      "-0.47821528 \t 5.325838\n",
      "38.00586 \t 5.827298\n",
      "12.717806 \t 5.9330525\n",
      "14.0382395 \t 5.3242583\n",
      "-1.4630086 \t 5.9859776\n",
      "-1.3589783 \t 5.599585\n",
      "-0.8402469 \t 5.4953346\n",
      "11.577406 \t 5.7520976\n",
      "-0.94092935 \t 5.6159754\n",
      "10.541725 \t 5.0620646\n",
      "-1.3293662 \t 5.2276635\n",
      "24.74996 \t 5.181871\n",
      "11.74905 \t 5.758596\n",
      "-1.0400668 \t 5.906716\n",
      "23.893852 \t 4.6747003\n",
      "12.402086 \t 5.853986\n",
      "-1.1775069 \t 5.3250785\n",
      "-0.6761216 \t 5.517615\n",
      "26.050804 \t 4.3763494\n",
      "-0.5699531 \t 5.1546826\n",
      "-1.2480911 \t 5.2598605\n",
      "12.847288 \t 5.647161\n",
      "-0.3453367 \t 5.5408626\n",
      "-1.2629776 \t 4.8728952\n",
      "10.98536 \t 5.26848\n",
      "-1.2744429 \t 5.296467\n",
      "-1.4687984 \t 5.625335\n",
      "11.756377 \t 5.2646914\n",
      "27.101862 \t 5.2024264\n",
      "11.615506 \t 5.7032943\n",
      "-1.218354 \t 5.5333214\n",
      "-1.3514297 \t 5.206512\n",
      "11.978268 \t 4.7243757\n"
     ]
    }
   ],
   "source": [
    "for i in range(1000):\n",
    "    train(1e-3, log=(i%10 == 0))"
   ]
  },
  {
   "cell_type": "code",
   "execution_count": 53,
   "metadata": {},
   "outputs": [
    {
     "data": {
      "text/plain": [
       "tensor([[ -0.0545, -18.8766, -25.7324, -33.7271, -29.2997, -38.9869, -11.3038,\n",
       "         -19.6850, -52.2440, -26.2295, -18.4480, -39.1483, -18.6127, -32.0300,\n",
       "         -24.1609, -41.6175, -41.8790, -27.2453, -33.7585, -24.3533]],\n",
       "       device='cuda:0', grad_fn=<SqueezeBackward1>)"
      ]
     },
     "execution_count": 53,
     "metadata": {},
     "output_type": "execute_result"
    }
   ],
   "source": [
    "particle_states = torch.from_numpy(\n",
    "    np.random.normal(0., 1., size=(1, 20, 3))\n",
    ").float().to(device)\n",
    "observations = torch.from_numpy(observer.forward(particle_states[0:1, 0].cpu().numpy())).float().to(device)\n",
    "measurements(observations, particle_states)"
   ]
  },
  {
   "cell_type": "code",
   "execution_count": null,
   "metadata": {},
   "outputs": [],
   "source": []
  },
  {
   "cell_type": "code",
   "execution_count": 60,
   "metadata": {
    "scrolled": false
   },
   "outputs": [],
   "source": [
    "traj_index = 0\n",
    "true_states, observations, controls = training_trajectories[traj_index]\n",
    "num_particles = 100\n",
    "\n",
    "start = 0\n",
    "end = start + 5\n",
    "\n",
    "particle_states = torch.FloatTensor(\n",
    "    [[true_states[start] for _ in range(num_particles)]]).to(device)\n",
    "\n",
    "# particle_variances = [4, 4, 0.1]\n",
    "# n = torch.distributions.Normal(torch.tensor([0.]), torch.tensor(particle_variances))\n",
    "# particle_states += n.sample((num_particles, )).to(device)\n",
    "particle_weights = torch.ones((1,num_particles)).to(device)\n",
    "\n",
    "states = []\n",
    "for control, observation in zip(controls[start + 1:end + 1], observations[start:end]):\n",
    "    # Type conversions\n",
    "    observation = to_torch(observation[np.newaxis,:])\n",
    "    control = to_torch(control[np.newaxis,:])\n",
    "\n",
    "    # Particle filter network: forward\n",
    "    best_state, particle_states, particle_weights = pfnet.forward(\n",
    "        particle_states, particle_weights, observation, control, resample=False)\n",
    "    # print (np.std(particle_weights.cpu().detach().numpy()), np.mean(particle_weights.cpu().detach().numpy()))\n",
    "\n",
    "    states.append(to_numpy(best_state))\n",
    "#     print(best_state)\n",
    "pf_states = np.array(states)\n",
    "particle_states = particle_states[0].cpu().detach().numpy()\n",
    "particle_weights = particle_weights[0].cpu().detach().numpy()"
   ]
  },
  {
   "cell_type": "code",
   "execution_count": 61,
   "metadata": {},
   "outputs": [
    {
     "name": "stdout",
     "output_type": "stream",
     "text": [
      "Trained network\n"
     ]
    },
    {
     "data": {
      "image/png": "[encoded data removed]",
      "text/plain": [
       "<Figure size 432x288 with 1 Axes>"
      ]
     },
     "metadata": {},
     "output_type": "display_data"
    }
   ],
   "source": [
    "print(\"Trained network\")\n",
    "# print(np.exp(particle_weights))\n",
    "plot_trajectories(\n",
    "    true=true_states,\n",
    "    pf=pf_states,\n",
    "    particles=(particle_states, particle_weights),\n",
    "    beacons=observer.locations\n",
    ")"
   ]
  },
  {
   "cell_type": "code",
   "execution_count": 40,
   "metadata": {},
   "outputs": [
    {
     "name": "stdout",
     "output_type": "stream",
     "text": [
      "Trained network\n"
     ]
    },
    {
     "ename": "AttributeError",
     "evalue": "'numpy.ndarray' object has no attribute 'cpu'",
     "output_type": "error",
     "traceback": [
      "\u001b[0;31m---------------------------------------------------------------------------\u001b[0m",
      "\u001b[0;31mAttributeError\u001b[0m                            Traceback (most recent call last)",
      "\u001b[0;32m<ipython-input-40-77eab66d67d5>\u001b[0m in \u001b[0;36m<module>\u001b[0;34m()\u001b[0m\n\u001b[1;32m      3\u001b[0m     \u001b[0mtrue\u001b[0m\u001b[0;34m=\u001b[0m\u001b[0mtrue_states\u001b[0m\u001b[0;34m,\u001b[0m\u001b[0;34m\u001b[0m\u001b[0;34m\u001b[0m\u001b[0m\n\u001b[1;32m      4\u001b[0m     \u001b[0mpf\u001b[0m\u001b[0;34m=\u001b[0m\u001b[0mpf_states\u001b[0m\u001b[0;34m,\u001b[0m\u001b[0;34m\u001b[0m\u001b[0;34m\u001b[0m\u001b[0m\n\u001b[0;32m----> 5\u001b[0;31m     \u001b[0mparticles\u001b[0m\u001b[0;34m=\u001b[0m\u001b[0;34m(\u001b[0m\u001b[0mparticle_states\u001b[0m\u001b[0;34m[\u001b[0m\u001b[0;36m0\u001b[0m\u001b[0;34m]\u001b[0m\u001b[0;34m.\u001b[0m\u001b[0mcpu\u001b[0m\u001b[0;34m(\u001b[0m\u001b[0;34m)\u001b[0m\u001b[0;34m.\u001b[0m\u001b[0mnumpy\u001b[0m\u001b[0;34m(\u001b[0m\u001b[0;34m)\u001b[0m\u001b[0;34m,\u001b[0m \u001b[0mparticle_weights\u001b[0m\u001b[0;34m[\u001b[0m\u001b[0;36m0\u001b[0m\u001b[0;34m]\u001b[0m\u001b[0;34m.\u001b[0m\u001b[0mcpu\u001b[0m\u001b[0;34m(\u001b[0m\u001b[0;34m)\u001b[0m\u001b[0;34m.\u001b[0m\u001b[0mnumpy\u001b[0m\u001b[0;34m(\u001b[0m\u001b[0;34m)\u001b[0m\u001b[0;34m)\u001b[0m\u001b[0;34m,\u001b[0m\u001b[0;34m\u001b[0m\u001b[0;34m\u001b[0m\u001b[0m\n\u001b[0m\u001b[1;32m      6\u001b[0m     \u001b[0mbeacons\u001b[0m\u001b[0;34m=\u001b[0m\u001b[0mobserver\u001b[0m\u001b[0;34m.\u001b[0m\u001b[0mlocations\u001b[0m\u001b[0;34m\u001b[0m\u001b[0;34m\u001b[0m\u001b[0m\n\u001b[1;32m      7\u001b[0m )\n",
      "\u001b[0;31mAttributeError\u001b[0m: 'numpy.ndarray' object has no attribute 'cpu'"
     ]
    }
   ],
   "source": [
    "print(\"Trained network\")\n",
    "plot_trajectories(\n",
    "    true=true_states,\n",
    "    pf=pf_states,\n",
    "    particles=(particle_states[0].cpu().numpy(), particle_weights[0].cpu().numpy()),\n",
    "    beacons=observer.locations\n",
    ")"
   ]
  },
  {
   "cell_type": "code",
   "execution_count": null,
   "metadata": {},
   "outputs": [],
   "source": []
  },
  {
   "cell_type": "code",
   "execution_count": null,
   "metadata": {},
   "outputs": [],
   "source": []
  },
  {
   "cell_type": "code",
   "execution_count": null,
   "metadata": {},
   "outputs": [],
   "source": []
  },
  {
   "cell_type": "code",
   "execution_count": null,
   "metadata": {},
   "outputs": [],
   "source": []
  },
  {
   "cell_type": "code",
   "execution_count": null,
   "metadata": {},
   "outputs": [],
   "source": []
  }
 ],
 "metadata": {
  "kernelspec": {
   "display_name": "Python 3",
   "language": "python",
   "name": "python3"
  },
  "language_info": {
   "codemirror_mode": {
    "name": "ipython",
    "version": 3
   },
   "file_extension": ".py",
   "mimetype": "text/x-python",
   "name": "python",
   "nbconvert_exporter": "python",
   "pygments_lexer": "ipython3",
   "version": "3.6.8"
  }
 },
 "nbformat": 4,
 "nbformat_minor": 2
}
