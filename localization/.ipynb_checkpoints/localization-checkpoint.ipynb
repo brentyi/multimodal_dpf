{
 "cells": [
  {
   "cell_type": "code",
   "execution_count": 76,
   "metadata": {},
   "outputs": [
    {
     "name": "stdout",
     "output_type": "stream",
     "text": [
      "The autoreload extension is already loaded. To reload it, use:\n",
      "  %reload_ext autoreload\n"
     ]
    }
   ],
   "source": [
    "%matplotlib inline\n",
    "%load_ext autoreload\n",
    "%autoreload 2\n",
    "\n",
    "import matplotlib.pyplot as plt\n",
    "import numpy as np\n",
    "import torch\n",
    "import torch.nn.functional as F\n",
    "import torch.optim as optim\n",
    "import time\n",
    "\n",
    "import dpf\n",
    "import dpf_toy\n"
   ]
  },
  {
   "cell_type": "code",
   "execution_count": 83,
   "metadata": {},
   "outputs": [],
   "source": [
    "iterations = 100\n",
    "\n",
    "# (x, y, theta)\n",
    "states = [np.array([0.0, 0.0, 0.0])]\n",
    "controls = []\n",
    "observations = []\n",
    "\n",
    "beacon_observer = dpf_toy.BeaconObserver()\n",
    "beacon_observer.add_beacon((5, 3), 0.2)\n",
    "beacon_observer.add_beacon((22, 8), 0.5)\n",
    "\n",
    "dynamics = dpf_toy.RobotDynamicsModel()\n",
    "\n",
    "# Simulation\n",
    "for _ in range(iterations):\n",
    "    control = torch.from_numpy(np.random.uniform(\n",
    "        low=[0, -0.1], high=[1, 0.1], size=(2,)).astype(np.float32))\n",
    "    new_state = dynamics.forward(\n",
    "        torch.from_numpy(states[-1][np.newaxis, :].astype(np.float32)), control, noisy=True)\n",
    "\n",
    "    states.append(new_state[0].numpy())\n",
    "    controls.append(control.numpy())\n",
    "true_states = np.array(states)\n",
    "\n",
    "# Dead-reckoning\n",
    "states = [true_states[0]]\n",
    "for control in controls:\n",
    "    new_state = dynamics.forward(\n",
    "        torch.from_numpy(states[-1][np.newaxis, :].astype(np.float32)), control, noisy=False)\n",
    "    states.append(new_state[0].numpy())\n",
    "dead_reckoned_states = np.array(states)\n"
   ]
  },
  {
   "cell_type": "code",
   "execution_count": 84,
   "metadata": {},
   "outputs": [
    {
     "data": {
      "text/plain": [
       "ParticleFilterNetwork(\n",
       "  (dynamics_model): RobotDynamicsModel()\n",
       "  (measurement_model): DeepBeaconMeasurementModel(\n",
       "    (observation_layers): Sequential(\n",
       "      (0): Linear(in_features=2, out_features=16, bias=True)\n",
       "      (1): LeakyReLU(negative_slope=0.01)\n",
       "    )\n",
       "    (state_layers): Sequential(\n",
       "      (0): Linear(in_features=3, out_features=16, bias=True)\n",
       "      (1): LeakyReLU(negative_slope=0.01)\n",
       "    )\n",
       "    (shared_layers): Sequential(\n",
       "      (0): Linear(in_features=32, out_features=16, bias=True)\n",
       "      (1): LeakyReLU(negative_slope=0.01)\n",
       "      (2): Linear(in_features=16, out_features=16, bias=True)\n",
       "      (3): LeakyReLU(negative_slope=0.01)\n",
       "      (4): Linear(in_features=16, out_features=16, bias=True)\n",
       "      (5): LeakyReLU(negative_slope=0.01)\n",
       "      (6): Linear(in_features=16, out_features=1, bias=True)\n",
       "      (7): LogSigmoid()\n",
       "    )\n",
       "  )\n",
       ")"
      ]
     },
     "execution_count": 84,
     "metadata": {},
     "output_type": "execute_result"
    }
   ],
   "source": [
    "\n",
    "# Particle filter network\n",
    "dynamics = dpf_toy.RobotDynamicsModel()\n",
    "measurements = dpf_toy.DeepBeaconMeasurementModel()\n",
    "\n",
    "pfnet = dpf.ParticleFilterNetwork(dynamics, measurements, 0.5)\n",
    "pfnet.train()\n"
   ]
  },
  {
   "cell_type": "code",
   "execution_count": 85,
   "metadata": {},
   "outputs": [],
   "source": [
    "model = pfnet\n",
    "\n",
    "total_epochs = 0\n",
    "optimizer = optim.Adam(model.parameters())\n",
    "\n",
    "def set_lr(lr):\n",
    "    print(\"Setting learning rate to\", lr)\n",
    "    for g in optimizer.param_groups:\n",
    "        g['lr'] = lr\n",
    "\n",
    "def train(epoch, log_interval=10):\n",
    "    model.train()  # set training mode\n",
    "    iteration = 0\n",
    "    for ep in range(epoch):\n",
    "        start = time.time()\n",
    "\n",
    "        observations = beacon_observer.forward(true_states[1:])\n",
    "        states = [true_states[0]]\n",
    "        num_particles = 1000\n",
    "        particle_states = torch.FloatTensor(\n",
    "            [true_states[0] for _ in range(num_particles)])\n",
    "        particle_weights = torch.ones(num_particles)\n",
    "\n",
    "        for i, (control, observation) in enumerate(zip(controls, observations)):\n",
    "            # Type conversions\n",
    "            observation = torch.from_numpy(observation.astype(np.float32))\n",
    "            control = torch.from_numpy(control.astype(np.float32))\n",
    "\n",
    "            # Particle filter network: forward\n",
    "            best_state, particle_states, particle_weights = pfnet.forward(\n",
    "                particle_states, particle_weights, observation, control)\n",
    "\n",
    "            loss = F.mse_loss(particle_states[:,:2],\n",
    "                             torch.from_numpy(true_states[i + 1][np.newaxis,:2].astype(np.float32)))\n",
    "            \n",
    "            print(loss.numpy())\n",
    "\n",
    "            # Backward pass\n",
    "            optimizer.zero_grad()\n",
    "            loss.backward()\n",
    "            optimizer.step()\n",
    "\n",
    "\n",
    "        end = time.time()\n",
    "\n",
    "        global total_epochs\n",
    "        total_epochs += 1\n",
    "        print('{}: {:.2f}s'.format(total_epochs, end-start))"
   ]
  },
  {
   "cell_type": "code",
   "execution_count": 86,
   "metadata": {},
   "outputs": [
    {
     "name": "stdout",
     "output_type": "stream",
     "text": [
      "0.0066413367\n"
     ]
    },
    {
     "name": "stderr",
     "output_type": "stream",
     "text": [
      "/usr/lib/python3/dist-packages/ipykernel_launcher.py:34: UserWarning: Using a target size (torch.Size([1, 2])) that is different to the input size (torch.Size([1000, 2])). This will likely lead to incorrect results due to broadcasting. Please ensure they have the same size.\n"
     ]
    },
    {
     "ename": "RuntimeError",
     "evalue": "element 0 of tensors does not require grad and does not have a grad_fn",
     "output_type": "error",
     "traceback": [
      "\u001b[0;31m---------------------------------------------------------------------------\u001b[0m",
      "\u001b[0;31mRuntimeError\u001b[0m                              Traceback (most recent call last)",
      "\u001b[0;32m<ipython-input-86-bcce4a81000f>\u001b[0m in \u001b[0;36m<module>\u001b[0;34m()\u001b[0m\n\u001b[0;32m----> 1\u001b[0;31m \u001b[0mtrain\u001b[0m\u001b[0;34m(\u001b[0m\u001b[0;36m5\u001b[0m\u001b[0;34m)\u001b[0m\u001b[0;34m\u001b[0m\u001b[0;34m\u001b[0m\u001b[0m\n\u001b[0m",
      "\u001b[0;32m<ipython-input-85-a807262e46b8>\u001b[0m in \u001b[0;36mtrain\u001b[0;34m(epoch, log_interval)\u001b[0m\n\u001b[1;32m     38\u001b[0m             \u001b[0;31m# Backward pass\u001b[0m\u001b[0;34m\u001b[0m\u001b[0;34m\u001b[0m\u001b[0;34m\u001b[0m\u001b[0m\n\u001b[1;32m     39\u001b[0m             \u001b[0moptimizer\u001b[0m\u001b[0;34m.\u001b[0m\u001b[0mzero_grad\u001b[0m\u001b[0;34m(\u001b[0m\u001b[0;34m)\u001b[0m\u001b[0;34m\u001b[0m\u001b[0;34m\u001b[0m\u001b[0m\n\u001b[0;32m---> 40\u001b[0;31m             \u001b[0mloss\u001b[0m\u001b[0;34m.\u001b[0m\u001b[0mbackward\u001b[0m\u001b[0;34m(\u001b[0m\u001b[0;34m)\u001b[0m\u001b[0;34m\u001b[0m\u001b[0;34m\u001b[0m\u001b[0m\n\u001b[0m\u001b[1;32m     41\u001b[0m             \u001b[0moptimizer\u001b[0m\u001b[0;34m.\u001b[0m\u001b[0mstep\u001b[0m\u001b[0;34m(\u001b[0m\u001b[0;34m)\u001b[0m\u001b[0;34m\u001b[0m\u001b[0;34m\u001b[0m\u001b[0m\n\u001b[1;32m     42\u001b[0m \u001b[0;34m\u001b[0m\u001b[0m\n",
      "\u001b[0;32m/usr/local/lib/python3.6/dist-packages/torch/tensor.py\u001b[0m in \u001b[0;36mbackward\u001b[0;34m(self, gradient, retain_graph, create_graph)\u001b[0m\n\u001b[1;32m    148\u001b[0m                 \u001b[0mproducts\u001b[0m\u001b[0;34m.\u001b[0m \u001b[0mDefaults\u001b[0m \u001b[0mto\u001b[0m\u001b[0;31m \u001b[0m\u001b[0;31m`\u001b[0m\u001b[0;31m`\u001b[0m\u001b[0;32mFalse\u001b[0m\u001b[0;31m`\u001b[0m\u001b[0;31m`\u001b[0m\u001b[0;34m.\u001b[0m\u001b[0;34m\u001b[0m\u001b[0;34m\u001b[0m\u001b[0m\n\u001b[1;32m    149\u001b[0m         \"\"\"\n\u001b[0;32m--> 150\u001b[0;31m         \u001b[0mtorch\u001b[0m\u001b[0;34m.\u001b[0m\u001b[0mautograd\u001b[0m\u001b[0;34m.\u001b[0m\u001b[0mbackward\u001b[0m\u001b[0;34m(\u001b[0m\u001b[0mself\u001b[0m\u001b[0;34m,\u001b[0m \u001b[0mgradient\u001b[0m\u001b[0;34m,\u001b[0m \u001b[0mretain_graph\u001b[0m\u001b[0;34m,\u001b[0m \u001b[0mcreate_graph\u001b[0m\u001b[0;34m)\u001b[0m\u001b[0;34m\u001b[0m\u001b[0;34m\u001b[0m\u001b[0m\n\u001b[0m\u001b[1;32m    151\u001b[0m \u001b[0;34m\u001b[0m\u001b[0m\n\u001b[1;32m    152\u001b[0m     \u001b[0;32mdef\u001b[0m \u001b[0mregister_hook\u001b[0m\u001b[0;34m(\u001b[0m\u001b[0mself\u001b[0m\u001b[0;34m,\u001b[0m \u001b[0mhook\u001b[0m\u001b[0;34m)\u001b[0m\u001b[0;34m:\u001b[0m\u001b[0;34m\u001b[0m\u001b[0;34m\u001b[0m\u001b[0m\n",
      "\u001b[0;32m/usr/local/lib/python3.6/dist-packages/torch/autograd/__init__.py\u001b[0m in \u001b[0;36mbackward\u001b[0;34m(tensors, grad_tensors, retain_graph, create_graph, grad_variables)\u001b[0m\n\u001b[1;32m     97\u001b[0m     Variable._execution_engine.run_backward(\n\u001b[1;32m     98\u001b[0m         \u001b[0mtensors\u001b[0m\u001b[0;34m,\u001b[0m \u001b[0mgrad_tensors\u001b[0m\u001b[0;34m,\u001b[0m \u001b[0mretain_graph\u001b[0m\u001b[0;34m,\u001b[0m \u001b[0mcreate_graph\u001b[0m\u001b[0;34m,\u001b[0m\u001b[0;34m\u001b[0m\u001b[0;34m\u001b[0m\u001b[0m\n\u001b[0;32m---> 99\u001b[0;31m         allow_unreachable=True)  # allow_unreachable flag\n\u001b[0m\u001b[1;32m    100\u001b[0m \u001b[0;34m\u001b[0m\u001b[0m\n\u001b[1;32m    101\u001b[0m \u001b[0;34m\u001b[0m\u001b[0m\n",
      "\u001b[0;31mRuntimeError\u001b[0m: element 0 of tensors does not require grad and does not have a grad_fn"
     ]
    }
   ],
   "source": [
    "train(5)"
   ]
  },
  {
   "cell_type": "code",
   "execution_count": 87,
   "metadata": {},
   "outputs": [],
   "source": [
    "observations = beacon_observer.forward(true_states[1:])\n",
    "states = [true_states[0]]\n",
    "num_particles = 1000\n",
    "particle_states = torch.FloatTensor(\n",
    "    [true_states[0] for _ in range(num_particles)])\n",
    "particle_weights = torch.ones(num_particles)\n",
    "\n",
    "for control, observation in zip(controls, observations):\n",
    "    # Type conversions\n",
    "    observation = torch.from_numpy(observation.astype(np.float32))\n",
    "    control = torch.from_numpy(control.astype(np.float32))\n",
    "\n",
    "    # Particle filter network: forward\n",
    "    best_state, particle_states, particle_weights = pfnet.forward(\n",
    "        particle_states, particle_weights, observation, control)\n",
    "\n",
    "    states.append(best_state.numpy())\n",
    "pf_states = np.array(states)\n"
   ]
  },
  {
   "cell_type": "code",
   "execution_count": 88,
   "metadata": {},
   "outputs": [
    {
     "data": {
      "image/png": "[encoded data removed]",
      "text/plain": [
       "<Figure size 432x288 with 1 Axes>"
      ]
     },
     "metadata": {},
     "output_type": "display_data"
    }
   ],
   "source": [
    "\n",
    "# Plot trajectories\n",
    "plt.scatter(dead_reckoned_states[:, 0],\n",
    "            dead_reckoned_states[:, 1], marker=\".\", label=\"Dead-reckoned\")\n",
    "plt.scatter(true_states[:, 0], true_states[:, 1],\n",
    "            marker=\".\", label=\"Ground-truth\")\n",
    "plt.scatter(pf_states[:, 0], pf_states[:, 1],\n",
    "            marker=\".\", label=\"Particle Filter\")\n",
    "\n",
    "pf_states = particle_states.numpy()\n",
    "plt.scatter(pf_states[:, 0], pf_states[:, 1], marker=\".\", label=\"Particles\")\n",
    "\n",
    "# Plot beacons\n",
    "beacon_locations = np.asarray(beacon_observer.locations)\n",
    "plt.scatter(beacon_locations[:, 0], beacon_locations[:, 1], label=\"Beacons\")\n",
    "\n",
    "plt.legend()\n",
    "plt.show()"
   ]
  },
  {
   "cell_type": "code",
   "execution_count": null,
   "metadata": {},
   "outputs": [],
   "source": []
  }
 ],
 "metadata": {
  "kernelspec": {
   "display_name": "Python 3",
   "language": "python",
   "name": "python3"
  },
  "language_info": {
   "codemirror_mode": {
    "name": "ipython",
    "version": 3
   },
   "file_extension": ".py",
   "mimetype": "text/x-python",
   "name": "python",
   "nbconvert_exporter": "python",
   "pygments_lexer": "ipython3",
   "version": "3.6.8"
  }
 },
 "nbformat": 4,
 "nbformat_minor": 2
}
