{
 "cells": [
  {
   "cell_type": "code",
   "execution_count": 25,
   "metadata": {},
   "outputs": [
    {
     "name": "stdout",
     "output_type": "stream",
     "text": [
      "The autoreload extension is already loaded. To reload it, use:\n",
      "  %reload_ext autoreload\n"
     ]
    }
   ],
   "source": [
    "%matplotlib inline\n",
    "%load_ext autoreload\n",
    "%autoreload 2\n",
    "\n",
    "import matplotlib.pyplot as plt\n",
    "import numpy as np\n",
    "import torch\n",
    "import torch.nn.functional as F\n",
    "import torch.optim as optim\n",
    "import time\n",
    "\n",
    "import dpf\n",
    "import dpf_toy\n"
   ]
  },
  {
   "cell_type": "code",
   "execution_count": 26,
   "metadata": {},
   "outputs": [],
   "source": [
    "iterations = 100\n",
    "\n",
    "# (x, y, theta)\n",
    "states = [np.array([0.0, 0.0, 0.0])]\n",
    "controls = []\n",
    "observations = []\n",
    "\n",
    "beacon_observer = dpf_toy.BeaconObserver()\n",
    "beacon_observer.add_beacon((5, 3), 0.2)\n",
    "beacon_observer.add_beacon((22, 8), 0.5)\n",
    "\n",
    "dynamics = dpf_toy.RobotDynamicsModel()\n",
    "\n",
    "# Simulation\n",
    "for _ in range(iterations):\n",
    "    control = torch.from_numpy(np.random.uniform(\n",
    "        low=[0, -0.1], high=[1, 0.1], size=(2,)).astype(np.float32))\n",
    "    new_state = dynamics.forward(\n",
    "        torch.from_numpy(states[-1][np.newaxis, :].astype(np.float32)), control, noisy=True)\n",
    "\n",
    "    states.append(new_state[0].numpy())\n",
    "    controls.append(control.numpy())\n",
    "true_states = np.array(states)\n",
    "\n",
    "# Dead-reckoning\n",
    "states = [true_states[0]]\n",
    "for control in controls:\n",
    "    new_state = dynamics.forward(\n",
    "        torch.from_numpy(states[-1][np.newaxis, :].astype(np.float32)), control, noisy=False)\n",
    "    states.append(new_state[0].numpy())\n",
    "dead_reckoned_states = np.array(states)\n"
   ]
  },
  {
   "cell_type": "code",
   "execution_count": 31,
   "metadata": {},
   "outputs": [
    {
     "name": "stdout",
     "output_type": "stream",
     "text": [
      "ParticleFilterNetwork(\n",
      "  (dynamics_model): RobotDynamicsModel()\n",
      "  (measurement_model): DeepBeaconMeasurementModel(\n",
      "    (observation_layers): Sequential(\n",
      "      (0): Linear(in_features=2, out_features=16, bias=True)\n",
      "      (1): LeakyReLU(negative_slope=0.01)\n",
      "    )\n",
      "    (state_layers): Sequential(\n",
      "      (0): Linear(in_features=3, out_features=16, bias=True)\n",
      "      (1): LeakyReLU(negative_slope=0.01)\n",
      "    )\n",
      "    (shared_layers): Sequential(\n",
      "      (0): Linear(in_features=32, out_features=16, bias=True)\n",
      "      (1): LeakyReLU(negative_slope=0.01)\n",
      "      (2): Linear(in_features=16, out_features=16, bias=True)\n",
      "      (3): LeakyReLU(negative_slope=0.01)\n",
      "      (4): Linear(in_features=16, out_features=16, bias=True)\n",
      "      (5): LeakyReLU(negative_slope=0.01)\n",
      "      (6): Linear(in_features=16, out_features=1, bias=True)\n",
      "      (7): LogSigmoid()\n",
      "    )\n",
      "  )\n",
      ")\n"
     ]
    }
   ],
   "source": [
    "use_cuda = torch.cuda.is_available()\n",
    "device = torch.device(\"cuda\" if use_cuda else \"cpu\")\n",
    "\n",
    "\n",
    "# Particle filter network\n",
    "dynamics = dpf_toy.RobotDynamicsModel()\n",
    "measurements = dpf_toy.DeepBeaconMeasurementModel()\n",
    "\n",
    "torch.autograd.set_detect_anomaly(True)\n",
    "\n",
    "pfnet = dpf.ParticleFilterNetwork(dynamics, measurements, 1.0).to(device)\n",
    "print(pfnet)"
   ]
  },
  {
   "cell_type": "code",
   "execution_count": null,
   "metadata": {},
   "outputs": [],
   "source": []
  },
  {
   "cell_type": "code",
   "execution_count": 32,
   "metadata": {},
   "outputs": [],
   "source": [
    "\n",
    "model = pfnet\n",
    "\n",
    "total_epochs = 0\n",
    "optimizer = optim.Adam(model.parameters())\n",
    "\n",
    "def set_lr(lr):\n",
    "    print(\"Setting learning rate to\", lr)\n",
    "    for g in optimizer.param_groups:\n",
    "        g['lr'] = lr\n",
    "\n",
    "def train(epoch, log_interval=10):\n",
    "    model.train()  # set training mode\n",
    "    iteration = 0\n",
    "    for ep in range(epoch):\n",
    "        start = time.time()\n",
    "\n",
    "        observations = beacon_observer.forward(true_states[1:])\n",
    "        states = [true_states[0]]\n",
    "        num_particles = 1000\n",
    "        prev_particle_states = torch.FloatTensor(\n",
    "            [true_states[0] for _ in range(num_particles)]).to(device)\n",
    "        prev_particle_weights = torch.ones(num_particles).to(device)\n",
    "        \n",
    "        for i, (control, observation) in enumerate(zip(controls, observations)):\n",
    "            # Type conversions\n",
    "            observation = torch.from_numpy(observation.astype(np.float32)).to(device)\n",
    "            control = torch.from_numpy(control.astype(np.float32)).to(device)\n",
    "\n",
    "            # Particle filter network: forward\n",
    "            best_state, particle_states, particle_weights = pfnet.forward(\n",
    "                prev_particle_states, prev_particle_weights, observation, control)\n",
    "\n",
    "            # Compute loss\n",
    "            label_state = torch.from_numpy(true_states[i+1].astype(np.float32)).to(device)\n",
    "            loss = F.mse_loss(best_state, label_state)\n",
    "\n",
    "            prev_particle_states = particle_states\n",
    "            prev_particle_weights = particle_weights\n",
    "\n",
    "            optimizer.zero_grad()\n",
    "            loss.backward(retain_graph=True)\n",
    "            optimizer.step()\n",
    "            \n",
    "            if i % 10 == 0:\n",
    "                print(\"Training loss:\", loss.cpu().detach().numpy())\n",
    "\n",
    "        print()\n",
    "\n",
    "\n",
    "\n",
    "        end = time.time()\n",
    "\n",
    "        global total_epochs\n",
    "        total_epochs += 1\n",
    "        print('{}: {:.2f}s'.format(total_epochs, end-start))"
   ]
  },
  {
   "cell_type": "code",
   "execution_count": 41,
   "metadata": {},
   "outputs": [
    {
     "name": "stdout",
     "output_type": "stream",
     "text": [
      "Setting learning rate to 0.0001\n",
      "Training loss: 7.360546\n",
      "Training loss: 0.26652512\n",
      "Training loss: 1.7054839\n",
      "Training loss: 0.76070625\n",
      "Training loss: 0.94111294\n",
      "Training loss: 1.3777717\n",
      "Training loss: 0.9791441\n",
      "Training loss: 0.6167847\n",
      "Training loss: 0.024880014\n",
      "Training loss: 0.5119046\n",
      "\n",
      "21: 1.20s\n",
      "Training loss: 7.428559\n",
      "Training loss: 0.23933725\n",
      "Training loss: 1.8851708\n",
      "Training loss: 0.6082273\n",
      "Training loss: 0.99320704\n",
      "Training loss: 2.495385\n",
      "Training loss: 1.7807562\n",
      "Training loss: 2.1396818\n",
      "Training loss: 0.43657634\n",
      "Training loss: 1.0185353\n",
      "\n",
      "22: 1.23s\n",
      "Training loss: 7.195537\n",
      "Training loss: 0.40498558\n",
      "Training loss: 1.4143163\n",
      "Training loss: 0.71010315\n",
      "Training loss: 0.7944672\n",
      "Training loss: 2.0044262\n",
      "Training loss: 1.6035453\n",
      "Training loss: 1.3379674\n",
      "Training loss: 1.118683\n",
      "Training loss: 0.37089288\n",
      "\n",
      "23: 1.30s\n",
      "Training loss: 7.504543\n",
      "Training loss: 0.20703448\n",
      "Training loss: 1.4081666\n",
      "Training loss: 0.7860719\n",
      "Training loss: 2.0608897\n",
      "Training loss: 4.296239\n",
      "Training loss: 3.0363367\n",
      "Training loss: 1.401313\n",
      "Training loss: 0.2529241\n",
      "Training loss: 2.768227\n",
      "\n",
      "24: 1.21s\n",
      "Training loss: 7.507684\n",
      "Training loss: 0.25442854\n",
      "Training loss: 1.2399135\n",
      "Training loss: 1.1303561\n",
      "Training loss: 2.3908699\n",
      "Training loss: 5.011927\n",
      "Training loss: 3.225515\n",
      "Training loss: 0.10039669\n",
      "Training loss: 3.4127562\n",
      "Training loss: 0.15429735\n",
      "\n",
      "25: 1.28s\n",
      "Training loss: 7.72679\n",
      "Training loss: 0.684523\n",
      "Training loss: 2.505678\n",
      "Training loss: 0.77532595\n",
      "Training loss: 1.1130185\n",
      "Training loss: 1.9870125\n",
      "Training loss: 2.4485664\n",
      "Training loss: 2.712552\n",
      "Training loss: 1.2613181\n",
      "Training loss: 6.683932\n",
      "\n",
      "26: 1.27s\n",
      "Training loss: 7.7527394\n",
      "Training loss: 0.44901752\n",
      "Training loss: 2.698037\n",
      "Training loss: 0.7191074\n",
      "Training loss: 1.1376083\n",
      "Training loss: 3.059141\n",
      "Training loss: 4.0346575\n",
      "Training loss: 3.3019848\n",
      "Training loss: 10.802237\n",
      "Training loss: 2.5388138\n",
      "\n",
      "27: 1.31s\n",
      "Training loss: 7.790781\n",
      "Training loss: 0.39073476\n",
      "Training loss: 2.3542762\n",
      "Training loss: 0.62115866\n",
      "Training loss: 0.64751667\n",
      "Training loss: 1.196876\n",
      "Training loss: 0.28682026\n",
      "Training loss: 1.1621386\n",
      "Training loss: 7.342036\n",
      "Training loss: 30.831465\n",
      "\n",
      "28: 1.33s\n",
      "Training loss: 7.354124\n",
      "Training loss: 0.15380287\n",
      "Training loss: 1.8090659\n",
      "Training loss: 0.7275897\n",
      "Training loss: 1.2433\n",
      "Training loss: 3.66253\n",
      "Training loss: 2.4058743\n",
      "Training loss: 1.8794514\n",
      "Training loss: 0.59766895\n",
      "Training loss: 0.18119502\n",
      "\n",
      "29: 1.29s\n",
      "Training loss: 6.96523\n",
      "Training loss: 0.3037974\n",
      "Training loss: 1.4637157\n",
      "Training loss: 0.7556848\n",
      "Training loss: 1.0899054\n",
      "Training loss: 2.4796453\n",
      "Training loss: 1.8167155\n",
      "Training loss: 0.56273335\n",
      "Training loss: 0.039127965\n",
      "Training loss: 1.7837179\n",
      "\n",
      "30: 1.26s\n"
     ]
    }
   ],
   "source": [
    "set_lr(1e-4)\n",
    "train(10)"
   ]
  },
  {
   "cell_type": "code",
   "execution_count": 46,
   "metadata": {
    "scrolled": false
   },
   "outputs": [],
   "source": [
    "observations = beacon_observer.forward(true_states[1:])\n",
    "states = [true_states[0]]\n",
    "num_particles = 100\n",
    "particle_states = torch.FloatTensor(\n",
    "    [true_states[0] for _ in range(num_particles)])\n",
    "particle_weights = torch.ones(num_particles)\n",
    "\n",
    "end = 100\n",
    "for control, observation in zip(controls[:end], observations[:end]):\n",
    "    # Type conversions\n",
    "    observation = torch.from_numpy(observation.astype(np.float32))\n",
    "    control = torch.from_numpy(control.astype(np.float32))\n",
    "\n",
    "    # Particle filter network: forward\n",
    "    best_state, particle_states, particle_weights = pfnet.forward(\n",
    "        particle_states, particle_weights, observation, control, resample=False)\n",
    "\n",
    "    states.append(best_state.detach().numpy())\n",
    "pf_states = np.array(states)\n"
   ]
  },
  {
   "cell_type": "code",
   "execution_count": 47,
   "metadata": {},
   "outputs": [],
   "source": [
    "def plot():\n",
    "    # Plot trajectories\n",
    "    plt.scatter(dead_reckoned_states[:, 0],\n",
    "                dead_reckoned_states[:, 1], marker=\".\", label=\"Dead-reckoned\")\n",
    "    plt.scatter(true_states[:, 0], true_states[:, 1],\n",
    "                marker=\".\", label=\"Ground-truth\")\n",
    "    plt.scatter(pf_states[:, 0], pf_states[:, 1],\n",
    "                marker=\".\", label=\"Particle Filter\")\n",
    "    # print(pf_states)\n",
    "\n",
    "    plt.scatter(particle_states.numpy()[:, 0], particle_states.numpy()[:, 1], marker=\".\", label=\"Particles\")\n",
    "\n",
    "    # Plot beacons\n",
    "    beacon_locations = np.asarray(beacon_observer.locations)\n",
    "    plt.scatter(beacon_locations[:, 0], beacon_locations[:, 1], label=\"Beacons\")\n",
    "\n",
    "    plt.legend()\n",
    "    plt.show()"
   ]
  },
  {
   "cell_type": "code",
   "execution_count": 48,
   "metadata": {},
   "outputs": [
    {
     "data": {
      "image/png": "[encoded data removed]",
      "text/plain": [
       "<Figure size 432x288 with 1 Axes>"
      ]
     },
     "metadata": {
      "needs_background": "light"
     },
     "output_type": "display_data"
    }
   ],
   "source": [
    "plot()"
   ]
  },
  {
   "cell_type": "code",
   "execution_count": 45,
   "metadata": {},
   "outputs": [
    {
     "data": {
      "image/png": "[encoded data removed]",
      "text/plain": [
       "<Figure size 432x288 with 1 Axes>"
      ]
     },
     "metadata": {
      "needs_background": "light"
     },
     "output_type": "display_data"
    }
   ],
   "source": [
    "plot()"
   ]
  },
  {
   "cell_type": "code",
   "execution_count": null,
   "metadata": {},
   "outputs": [],
   "source": []
  }
 ],
 "metadata": {
  "kernelspec": {
   "display_name": "Python 3",
   "language": "python",
   "name": "python3"
  },
  "language_info": {
   "codemirror_mode": {
    "name": "ipython",
    "version": 3
   },
   "file_extension": ".py",
   "mimetype": "text/x-python",
   "name": "python",
   "nbconvert_exporter": "python",
   "pygments_lexer": "ipython3",
   "version": "3.7.5"
  }
 },
 "nbformat": 4,
 "nbformat_minor": 2
}
